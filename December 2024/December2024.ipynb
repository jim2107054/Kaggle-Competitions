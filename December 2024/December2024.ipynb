{
  "nbformat": 4,
  "nbformat_minor": 0,
  "metadata": {
    "colab": {
      "provenance": [],
      "gpuType": "T4"
    },
    "kernelspec": {
      "name": "python3",
      "display_name": "Python 3"
    },
    "language_info": {
      "name": "python"
    },
    "accelerator": "GPU"
  },
  "cells": [
    {
      "cell_type": "markdown",
      "source": [
        "## Define the problem and Read the data."
      ],
      "metadata": {
        "id": "fV45RAAJt5wV"
      }
    },
    {
      "cell_type": "code",
      "source": [
        "!mkdir -p ~/.kaggle\n",
        "!cp kaggle.json ~/.kaggle/"
      ],
      "metadata": {
        "id": "Vej8TeMsuD9L"
      },
      "execution_count": 216,
      "outputs": []
    },
    {
      "cell_type": "code",
      "execution_count": 217,
      "metadata": {
        "colab": {
          "base_uri": "https://localhost:8080/"
        },
        "id": "JrdEkqTEtzSn",
        "outputId": "e3fd33f3-acff-42a0-e27e-1a4163e9daca"
      },
      "outputs": [
        {
          "output_type": "stream",
          "name": "stdout",
          "text": [
            "Warning: Your Kaggle API key is readable by other users on this system! To fix this, you can run 'chmod 600 /root/.kaggle/kaggle.json'\n",
            "playground-series-s4e12.zip: Skipping, found more recently modified local copy (use --force to force download)\n"
          ]
        }
      ],
      "source": [
        "!kaggle competitions download -c playground-series-s4e12"
      ]
    },
    {
      "cell_type": "code",
      "source": [
        "import zipfile\n",
        "zip_ref = zipfile.ZipFile('/content/playground-series-s4e12.zip', 'r')\n",
        "zip_ref.extractall('/content')\n",
        "zip_ref.close()"
      ],
      "metadata": {
        "id": "81k3ZRTcuwSH"
      },
      "execution_count": 218,
      "outputs": []
    },
    {
      "cell_type": "code",
      "source": [
        "import numpy as np\n",
        "import pandas as pd\n",
        "import matplotlib.pyplot as plt\n",
        "import seaborn as sns"
      ],
      "metadata": {
        "id": "k_ouHt88wjyH"
      },
      "execution_count": 219,
      "outputs": []
    },
    {
      "cell_type": "code",
      "source": [
        "data = pd.read_csv('/content/train.csv')\n",
        "test = pd.read_csv('/content/test.csv')"
      ],
      "metadata": {
        "id": "oP7Nl_lguxB8"
      },
      "execution_count": 220,
      "outputs": []
    },
    {
      "cell_type": "code",
      "source": [
        "data.info()"
      ],
      "metadata": {
        "colab": {
          "base_uri": "https://localhost:8080/"
        },
        "id": "N16DfMT-wiUl",
        "outputId": "8d1f7348-1ea1-48ea-993f-c5c91b6b3788"
      },
      "execution_count": 221,
      "outputs": [
        {
          "output_type": "stream",
          "name": "stdout",
          "text": [
            "<class 'pandas.core.frame.DataFrame'>\n",
            "RangeIndex: 1200000 entries, 0 to 1199999\n",
            "Data columns (total 21 columns):\n",
            " #   Column                Non-Null Count    Dtype  \n",
            "---  ------                --------------    -----  \n",
            " 0   id                    1200000 non-null  int64  \n",
            " 1   Age                   1181295 non-null  float64\n",
            " 2   Gender                1200000 non-null  object \n",
            " 3   Annual Income         1155051 non-null  float64\n",
            " 4   Marital Status        1181471 non-null  object \n",
            " 5   Number of Dependents  1090328 non-null  float64\n",
            " 6   Education Level       1200000 non-null  object \n",
            " 7   Occupation            841925 non-null   object \n",
            " 8   Health Score          1125924 non-null  float64\n",
            " 9   Location              1200000 non-null  object \n",
            " 10  Policy Type           1200000 non-null  object \n",
            " 11  Previous Claims       835971 non-null   float64\n",
            " 12  Vehicle Age           1199994 non-null  float64\n",
            " 13  Credit Score          1062118 non-null  float64\n",
            " 14  Insurance Duration    1199999 non-null  float64\n",
            " 15  Policy Start Date     1200000 non-null  object \n",
            " 16  Customer Feedback     1122176 non-null  object \n",
            " 17  Smoking Status        1200000 non-null  object \n",
            " 18  Exercise Frequency    1200000 non-null  object \n",
            " 19  Property Type         1200000 non-null  object \n",
            " 20  Premium Amount        1200000 non-null  float64\n",
            "dtypes: float64(9), int64(1), object(11)\n",
            "memory usage: 192.3+ MB\n"
          ]
        }
      ]
    },
    {
      "cell_type": "code",
      "source": [
        "data.head()"
      ],
      "metadata": {
        "colab": {
          "base_uri": "https://localhost:8080/",
          "height": 359
        },
        "id": "1ySNQmkgwo_s",
        "outputId": "0808a453-267f-4411-f625-c7f0d3c63bff"
      },
      "execution_count": 222,
      "outputs": [
        {
          "output_type": "execute_result",
          "data": {
            "text/plain": [
              "   id   Age  Gender  Annual Income Marital Status  Number of Dependents  \\\n",
              "0   0  19.0  Female        10049.0        Married                   1.0   \n",
              "1   1  39.0  Female        31678.0       Divorced                   3.0   \n",
              "2   2  23.0    Male        25602.0       Divorced                   3.0   \n",
              "3   3  21.0    Male       141855.0        Married                   2.0   \n",
              "4   4  21.0    Male        39651.0         Single                   1.0   \n",
              "\n",
              "  Education Level     Occupation  Health Score  Location  ... Previous Claims  \\\n",
              "0      Bachelor's  Self-Employed     22.598761     Urban  ...             2.0   \n",
              "1        Master's            NaN     15.569731     Rural  ...             1.0   \n",
              "2     High School  Self-Employed     47.177549  Suburban  ...             1.0   \n",
              "3      Bachelor's            NaN     10.938144     Rural  ...             1.0   \n",
              "4      Bachelor's  Self-Employed     20.376094     Rural  ...             0.0   \n",
              "\n",
              "   Vehicle Age  Credit Score  Insurance Duration           Policy Start Date  \\\n",
              "0         17.0         372.0                 5.0  2023-12-23 15:21:39.134960   \n",
              "1         12.0         694.0                 2.0  2023-06-12 15:21:39.111551   \n",
              "2         14.0           NaN                 3.0  2023-09-30 15:21:39.221386   \n",
              "3          0.0         367.0                 1.0  2024-06-12 15:21:39.226954   \n",
              "4          8.0         598.0                 4.0  2021-12-01 15:21:39.252145   \n",
              "\n",
              "  Customer Feedback Smoking Status Exercise Frequency Property Type  \\\n",
              "0              Poor             No             Weekly         House   \n",
              "1           Average            Yes            Monthly         House   \n",
              "2              Good            Yes             Weekly         House   \n",
              "3              Poor            Yes              Daily     Apartment   \n",
              "4              Poor            Yes             Weekly         House   \n",
              "\n",
              "  Premium Amount  \n",
              "0         2869.0  \n",
              "1         1483.0  \n",
              "2          567.0  \n",
              "3          765.0  \n",
              "4         2022.0  \n",
              "\n",
              "[5 rows x 21 columns]"
            ],
            "text/html": [
              "\n",
              "  <div id=\"df-4532c762-5704-4f2b-a442-d09c0c3e50d3\" class=\"colab-df-container\">\n",
              "    <div>\n",
              "<style scoped>\n",
              "    .dataframe tbody tr th:only-of-type {\n",
              "        vertical-align: middle;\n",
              "    }\n",
              "\n",
              "    .dataframe tbody tr th {\n",
              "        vertical-align: top;\n",
              "    }\n",
              "\n",
              "    .dataframe thead th {\n",
              "        text-align: right;\n",
              "    }\n",
              "</style>\n",
              "<table border=\"1\" class=\"dataframe\">\n",
              "  <thead>\n",
              "    <tr style=\"text-align: right;\">\n",
              "      <th></th>\n",
              "      <th>id</th>\n",
              "      <th>Age</th>\n",
              "      <th>Gender</th>\n",
              "      <th>Annual Income</th>\n",
              "      <th>Marital Status</th>\n",
              "      <th>Number of Dependents</th>\n",
              "      <th>Education Level</th>\n",
              "      <th>Occupation</th>\n",
              "      <th>Health Score</th>\n",
              "      <th>Location</th>\n",
              "      <th>...</th>\n",
              "      <th>Previous Claims</th>\n",
              "      <th>Vehicle Age</th>\n",
              "      <th>Credit Score</th>\n",
              "      <th>Insurance Duration</th>\n",
              "      <th>Policy Start Date</th>\n",
              "      <th>Customer Feedback</th>\n",
              "      <th>Smoking Status</th>\n",
              "      <th>Exercise Frequency</th>\n",
              "      <th>Property Type</th>\n",
              "      <th>Premium Amount</th>\n",
              "    </tr>\n",
              "  </thead>\n",
              "  <tbody>\n",
              "    <tr>\n",
              "      <th>0</th>\n",
              "      <td>0</td>\n",
              "      <td>19.0</td>\n",
              "      <td>Female</td>\n",
              "      <td>10049.0</td>\n",
              "      <td>Married</td>\n",
              "      <td>1.0</td>\n",
              "      <td>Bachelor's</td>\n",
              "      <td>Self-Employed</td>\n",
              "      <td>22.598761</td>\n",
              "      <td>Urban</td>\n",
              "      <td>...</td>\n",
              "      <td>2.0</td>\n",
              "      <td>17.0</td>\n",
              "      <td>372.0</td>\n",
              "      <td>5.0</td>\n",
              "      <td>2023-12-23 15:21:39.134960</td>\n",
              "      <td>Poor</td>\n",
              "      <td>No</td>\n",
              "      <td>Weekly</td>\n",
              "      <td>House</td>\n",
              "      <td>2869.0</td>\n",
              "    </tr>\n",
              "    <tr>\n",
              "      <th>1</th>\n",
              "      <td>1</td>\n",
              "      <td>39.0</td>\n",
              "      <td>Female</td>\n",
              "      <td>31678.0</td>\n",
              "      <td>Divorced</td>\n",
              "      <td>3.0</td>\n",
              "      <td>Master's</td>\n",
              "      <td>NaN</td>\n",
              "      <td>15.569731</td>\n",
              "      <td>Rural</td>\n",
              "      <td>...</td>\n",
              "      <td>1.0</td>\n",
              "      <td>12.0</td>\n",
              "      <td>694.0</td>\n",
              "      <td>2.0</td>\n",
              "      <td>2023-06-12 15:21:39.111551</td>\n",
              "      <td>Average</td>\n",
              "      <td>Yes</td>\n",
              "      <td>Monthly</td>\n",
              "      <td>House</td>\n",
              "      <td>1483.0</td>\n",
              "    </tr>\n",
              "    <tr>\n",
              "      <th>2</th>\n",
              "      <td>2</td>\n",
              "      <td>23.0</td>\n",
              "      <td>Male</td>\n",
              "      <td>25602.0</td>\n",
              "      <td>Divorced</td>\n",
              "      <td>3.0</td>\n",
              "      <td>High School</td>\n",
              "      <td>Self-Employed</td>\n",
              "      <td>47.177549</td>\n",
              "      <td>Suburban</td>\n",
              "      <td>...</td>\n",
              "      <td>1.0</td>\n",
              "      <td>14.0</td>\n",
              "      <td>NaN</td>\n",
              "      <td>3.0</td>\n",
              "      <td>2023-09-30 15:21:39.221386</td>\n",
              "      <td>Good</td>\n",
              "      <td>Yes</td>\n",
              "      <td>Weekly</td>\n",
              "      <td>House</td>\n",
              "      <td>567.0</td>\n",
              "    </tr>\n",
              "    <tr>\n",
              "      <th>3</th>\n",
              "      <td>3</td>\n",
              "      <td>21.0</td>\n",
              "      <td>Male</td>\n",
              "      <td>141855.0</td>\n",
              "      <td>Married</td>\n",
              "      <td>2.0</td>\n",
              "      <td>Bachelor's</td>\n",
              "      <td>NaN</td>\n",
              "      <td>10.938144</td>\n",
              "      <td>Rural</td>\n",
              "      <td>...</td>\n",
              "      <td>1.0</td>\n",
              "      <td>0.0</td>\n",
              "      <td>367.0</td>\n",
              "      <td>1.0</td>\n",
              "      <td>2024-06-12 15:21:39.226954</td>\n",
              "      <td>Poor</td>\n",
              "      <td>Yes</td>\n",
              "      <td>Daily</td>\n",
              "      <td>Apartment</td>\n",
              "      <td>765.0</td>\n",
              "    </tr>\n",
              "    <tr>\n",
              "      <th>4</th>\n",
              "      <td>4</td>\n",
              "      <td>21.0</td>\n",
              "      <td>Male</td>\n",
              "      <td>39651.0</td>\n",
              "      <td>Single</td>\n",
              "      <td>1.0</td>\n",
              "      <td>Bachelor's</td>\n",
              "      <td>Self-Employed</td>\n",
              "      <td>20.376094</td>\n",
              "      <td>Rural</td>\n",
              "      <td>...</td>\n",
              "      <td>0.0</td>\n",
              "      <td>8.0</td>\n",
              "      <td>598.0</td>\n",
              "      <td>4.0</td>\n",
              "      <td>2021-12-01 15:21:39.252145</td>\n",
              "      <td>Poor</td>\n",
              "      <td>Yes</td>\n",
              "      <td>Weekly</td>\n",
              "      <td>House</td>\n",
              "      <td>2022.0</td>\n",
              "    </tr>\n",
              "  </tbody>\n",
              "</table>\n",
              "<p>5 rows × 21 columns</p>\n",
              "</div>\n",
              "    <div class=\"colab-df-buttons\">\n",
              "\n",
              "  <div class=\"colab-df-container\">\n",
              "    <button class=\"colab-df-convert\" onclick=\"convertToInteractive('df-4532c762-5704-4f2b-a442-d09c0c3e50d3')\"\n",
              "            title=\"Convert this dataframe to an interactive table.\"\n",
              "            style=\"display:none;\">\n",
              "\n",
              "  <svg xmlns=\"http://www.w3.org/2000/svg\" height=\"24px\" viewBox=\"0 -960 960 960\">\n",
              "    <path d=\"M120-120v-720h720v720H120Zm60-500h600v-160H180v160Zm220 220h160v-160H400v160Zm0 220h160v-160H400v160ZM180-400h160v-160H180v160Zm440 0h160v-160H620v160ZM180-180h160v-160H180v160Zm440 0h160v-160H620v160Z\"/>\n",
              "  </svg>\n",
              "    </button>\n",
              "\n",
              "  <style>\n",
              "    .colab-df-container {\n",
              "      display:flex;\n",
              "      gap: 12px;\n",
              "    }\n",
              "\n",
              "    .colab-df-convert {\n",
              "      background-color: #E8F0FE;\n",
              "      border: none;\n",
              "      border-radius: 50%;\n",
              "      cursor: pointer;\n",
              "      display: none;\n",
              "      fill: #1967D2;\n",
              "      height: 32px;\n",
              "      padding: 0 0 0 0;\n",
              "      width: 32px;\n",
              "    }\n",
              "\n",
              "    .colab-df-convert:hover {\n",
              "      background-color: #E2EBFA;\n",
              "      box-shadow: 0px 1px 2px rgba(60, 64, 67, 0.3), 0px 1px 3px 1px rgba(60, 64, 67, 0.15);\n",
              "      fill: #174EA6;\n",
              "    }\n",
              "\n",
              "    .colab-df-buttons div {\n",
              "      margin-bottom: 4px;\n",
              "    }\n",
              "\n",
              "    [theme=dark] .colab-df-convert {\n",
              "      background-color: #3B4455;\n",
              "      fill: #D2E3FC;\n",
              "    }\n",
              "\n",
              "    [theme=dark] .colab-df-convert:hover {\n",
              "      background-color: #434B5C;\n",
              "      box-shadow: 0px 1px 3px 1px rgba(0, 0, 0, 0.15);\n",
              "      filter: drop-shadow(0px 1px 2px rgba(0, 0, 0, 0.3));\n",
              "      fill: #FFFFFF;\n",
              "    }\n",
              "  </style>\n",
              "\n",
              "    <script>\n",
              "      const buttonEl =\n",
              "        document.querySelector('#df-4532c762-5704-4f2b-a442-d09c0c3e50d3 button.colab-df-convert');\n",
              "      buttonEl.style.display =\n",
              "        google.colab.kernel.accessAllowed ? 'block' : 'none';\n",
              "\n",
              "      async function convertToInteractive(key) {\n",
              "        const element = document.querySelector('#df-4532c762-5704-4f2b-a442-d09c0c3e50d3');\n",
              "        const dataTable =\n",
              "          await google.colab.kernel.invokeFunction('convertToInteractive',\n",
              "                                                    [key], {});\n",
              "        if (!dataTable) return;\n",
              "\n",
              "        const docLinkHtml = 'Like what you see? Visit the ' +\n",
              "          '<a target=\"_blank\" href=https://colab.research.google.com/notebooks/data_table.ipynb>data table notebook</a>'\n",
              "          + ' to learn more about interactive tables.';\n",
              "        element.innerHTML = '';\n",
              "        dataTable['output_type'] = 'display_data';\n",
              "        await google.colab.output.renderOutput(dataTable, element);\n",
              "        const docLink = document.createElement('div');\n",
              "        docLink.innerHTML = docLinkHtml;\n",
              "        element.appendChild(docLink);\n",
              "      }\n",
              "    </script>\n",
              "  </div>\n",
              "\n",
              "\n",
              "<div id=\"df-a3a45659-50d4-49e7-a706-bd8b466a8821\">\n",
              "  <button class=\"colab-df-quickchart\" onclick=\"quickchart('df-a3a45659-50d4-49e7-a706-bd8b466a8821')\"\n",
              "            title=\"Suggest charts\"\n",
              "            style=\"display:none;\">\n",
              "\n",
              "<svg xmlns=\"http://www.w3.org/2000/svg\" height=\"24px\"viewBox=\"0 0 24 24\"\n",
              "     width=\"24px\">\n",
              "    <g>\n",
              "        <path d=\"M19 3H5c-1.1 0-2 .9-2 2v14c0 1.1.9 2 2 2h14c1.1 0 2-.9 2-2V5c0-1.1-.9-2-2-2zM9 17H7v-7h2v7zm4 0h-2V7h2v10zm4 0h-2v-4h2v4z\"/>\n",
              "    </g>\n",
              "</svg>\n",
              "  </button>\n",
              "\n",
              "<style>\n",
              "  .colab-df-quickchart {\n",
              "      --bg-color: #E8F0FE;\n",
              "      --fill-color: #1967D2;\n",
              "      --hover-bg-color: #E2EBFA;\n",
              "      --hover-fill-color: #174EA6;\n",
              "      --disabled-fill-color: #AAA;\n",
              "      --disabled-bg-color: #DDD;\n",
              "  }\n",
              "\n",
              "  [theme=dark] .colab-df-quickchart {\n",
              "      --bg-color: #3B4455;\n",
              "      --fill-color: #D2E3FC;\n",
              "      --hover-bg-color: #434B5C;\n",
              "      --hover-fill-color: #FFFFFF;\n",
              "      --disabled-bg-color: #3B4455;\n",
              "      --disabled-fill-color: #666;\n",
              "  }\n",
              "\n",
              "  .colab-df-quickchart {\n",
              "    background-color: var(--bg-color);\n",
              "    border: none;\n",
              "    border-radius: 50%;\n",
              "    cursor: pointer;\n",
              "    display: none;\n",
              "    fill: var(--fill-color);\n",
              "    height: 32px;\n",
              "    padding: 0;\n",
              "    width: 32px;\n",
              "  }\n",
              "\n",
              "  .colab-df-quickchart:hover {\n",
              "    background-color: var(--hover-bg-color);\n",
              "    box-shadow: 0 1px 2px rgba(60, 64, 67, 0.3), 0 1px 3px 1px rgba(60, 64, 67, 0.15);\n",
              "    fill: var(--button-hover-fill-color);\n",
              "  }\n",
              "\n",
              "  .colab-df-quickchart-complete:disabled,\n",
              "  .colab-df-quickchart-complete:disabled:hover {\n",
              "    background-color: var(--disabled-bg-color);\n",
              "    fill: var(--disabled-fill-color);\n",
              "    box-shadow: none;\n",
              "  }\n",
              "\n",
              "  .colab-df-spinner {\n",
              "    border: 2px solid var(--fill-color);\n",
              "    border-color: transparent;\n",
              "    border-bottom-color: var(--fill-color);\n",
              "    animation:\n",
              "      spin 1s steps(1) infinite;\n",
              "  }\n",
              "\n",
              "  @keyframes spin {\n",
              "    0% {\n",
              "      border-color: transparent;\n",
              "      border-bottom-color: var(--fill-color);\n",
              "      border-left-color: var(--fill-color);\n",
              "    }\n",
              "    20% {\n",
              "      border-color: transparent;\n",
              "      border-left-color: var(--fill-color);\n",
              "      border-top-color: var(--fill-color);\n",
              "    }\n",
              "    30% {\n",
              "      border-color: transparent;\n",
              "      border-left-color: var(--fill-color);\n",
              "      border-top-color: var(--fill-color);\n",
              "      border-right-color: var(--fill-color);\n",
              "    }\n",
              "    40% {\n",
              "      border-color: transparent;\n",
              "      border-right-color: var(--fill-color);\n",
              "      border-top-color: var(--fill-color);\n",
              "    }\n",
              "    60% {\n",
              "      border-color: transparent;\n",
              "      border-right-color: var(--fill-color);\n",
              "    }\n",
              "    80% {\n",
              "      border-color: transparent;\n",
              "      border-right-color: var(--fill-color);\n",
              "      border-bottom-color: var(--fill-color);\n",
              "    }\n",
              "    90% {\n",
              "      border-color: transparent;\n",
              "      border-bottom-color: var(--fill-color);\n",
              "    }\n",
              "  }\n",
              "</style>\n",
              "\n",
              "  <script>\n",
              "    async function quickchart(key) {\n",
              "      const quickchartButtonEl =\n",
              "        document.querySelector('#' + key + ' button');\n",
              "      quickchartButtonEl.disabled = true;  // To prevent multiple clicks.\n",
              "      quickchartButtonEl.classList.add('colab-df-spinner');\n",
              "      try {\n",
              "        const charts = await google.colab.kernel.invokeFunction(\n",
              "            'suggestCharts', [key], {});\n",
              "      } catch (error) {\n",
              "        console.error('Error during call to suggestCharts:', error);\n",
              "      }\n",
              "      quickchartButtonEl.classList.remove('colab-df-spinner');\n",
              "      quickchartButtonEl.classList.add('colab-df-quickchart-complete');\n",
              "    }\n",
              "    (() => {\n",
              "      let quickchartButtonEl =\n",
              "        document.querySelector('#df-a3a45659-50d4-49e7-a706-bd8b466a8821 button');\n",
              "      quickchartButtonEl.style.display =\n",
              "        google.colab.kernel.accessAllowed ? 'block' : 'none';\n",
              "    })();\n",
              "  </script>\n",
              "</div>\n",
              "\n",
              "    </div>\n",
              "  </div>\n"
            ],
            "application/vnd.google.colaboratory.intrinsic+json": {
              "type": "dataframe",
              "variable_name": "data"
            }
          },
          "metadata": {},
          "execution_count": 222
        }
      ]
    },
    {
      "cell_type": "markdown",
      "source": [
        "# EDA"
      ],
      "metadata": {
        "id": "pI1mCQN214yZ"
      }
    },
    {
      "cell_type": "code",
      "source": [
        "data.info()"
      ],
      "metadata": {
        "colab": {
          "base_uri": "https://localhost:8080/"
        },
        "id": "z5VGF3j4wtYr",
        "outputId": "a7e7b4be-00f7-4cc4-9852-785e444fcafb"
      },
      "execution_count": 223,
      "outputs": [
        {
          "output_type": "stream",
          "name": "stdout",
          "text": [
            "<class 'pandas.core.frame.DataFrame'>\n",
            "RangeIndex: 1200000 entries, 0 to 1199999\n",
            "Data columns (total 21 columns):\n",
            " #   Column                Non-Null Count    Dtype  \n",
            "---  ------                --------------    -----  \n",
            " 0   id                    1200000 non-null  int64  \n",
            " 1   Age                   1181295 non-null  float64\n",
            " 2   Gender                1200000 non-null  object \n",
            " 3   Annual Income         1155051 non-null  float64\n",
            " 4   Marital Status        1181471 non-null  object \n",
            " 5   Number of Dependents  1090328 non-null  float64\n",
            " 6   Education Level       1200000 non-null  object \n",
            " 7   Occupation            841925 non-null   object \n",
            " 8   Health Score          1125924 non-null  float64\n",
            " 9   Location              1200000 non-null  object \n",
            " 10  Policy Type           1200000 non-null  object \n",
            " 11  Previous Claims       835971 non-null   float64\n",
            " 12  Vehicle Age           1199994 non-null  float64\n",
            " 13  Credit Score          1062118 non-null  float64\n",
            " 14  Insurance Duration    1199999 non-null  float64\n",
            " 15  Policy Start Date     1200000 non-null  object \n",
            " 16  Customer Feedback     1122176 non-null  object \n",
            " 17  Smoking Status        1200000 non-null  object \n",
            " 18  Exercise Frequency    1200000 non-null  object \n",
            " 19  Property Type         1200000 non-null  object \n",
            " 20  Premium Amount        1200000 non-null  float64\n",
            "dtypes: float64(9), int64(1), object(11)\n",
            "memory usage: 192.3+ MB\n"
          ]
        }
      ]
    },
    {
      "cell_type": "markdown",
      "source": [
        "##### __Customer Feedback__ column"
      ],
      "metadata": {
        "id": "twW7j8mY2nNr"
      }
    },
    {
      "cell_type": "code",
      "source": [
        "print(data['Customer Feedback'].isnull().sum())\n",
        "print(test['Customer Feedback'].isnull().sum())"
      ],
      "metadata": {
        "colab": {
          "base_uri": "https://localhost:8080/"
        },
        "id": "_QPQ2vsE2m1P",
        "outputId": "edb6265a-036e-41e0-d87c-00b8b05a1c67"
      },
      "execution_count": 224,
      "outputs": [
        {
          "output_type": "stream",
          "name": "stdout",
          "text": [
            "77824\n",
            "52276\n"
          ]
        }
      ]
    },
    {
      "cell_type": "code",
      "source": [
        "data['Customer Feedback'].value_counts()"
      ],
      "metadata": {
        "colab": {
          "base_uri": "https://localhost:8080/",
          "height": 0
        },
        "id": "BXaiZH0x2T1t",
        "outputId": "f0feb009-d2a4-4f5d-90ff-3c4f049a230b"
      },
      "execution_count": 225,
      "outputs": [
        {
          "output_type": "execute_result",
          "data": {
            "text/plain": [
              "Customer Feedback\n",
              "Average    377905\n",
              "Poor       375518\n",
              "Good       368753\n",
              "Name: count, dtype: int64"
            ],
            "text/html": [
              "<div>\n",
              "<style scoped>\n",
              "    .dataframe tbody tr th:only-of-type {\n",
              "        vertical-align: middle;\n",
              "    }\n",
              "\n",
              "    .dataframe tbody tr th {\n",
              "        vertical-align: top;\n",
              "    }\n",
              "\n",
              "    .dataframe thead th {\n",
              "        text-align: right;\n",
              "    }\n",
              "</style>\n",
              "<table border=\"1\" class=\"dataframe\">\n",
              "  <thead>\n",
              "    <tr style=\"text-align: right;\">\n",
              "      <th></th>\n",
              "      <th>count</th>\n",
              "    </tr>\n",
              "    <tr>\n",
              "      <th>Customer Feedback</th>\n",
              "      <th></th>\n",
              "    </tr>\n",
              "  </thead>\n",
              "  <tbody>\n",
              "    <tr>\n",
              "      <th>Average</th>\n",
              "      <td>377905</td>\n",
              "    </tr>\n",
              "    <tr>\n",
              "      <th>Poor</th>\n",
              "      <td>375518</td>\n",
              "    </tr>\n",
              "    <tr>\n",
              "      <th>Good</th>\n",
              "      <td>368753</td>\n",
              "    </tr>\n",
              "  </tbody>\n",
              "</table>\n",
              "</div><br><label><b>dtype:</b> int64</label>"
            ]
          },
          "metadata": {},
          "execution_count": 225
        }
      ]
    },
    {
      "cell_type": "markdown",
      "source": [
        "**Impute the Customer Feedback column with OHE**"
      ],
      "metadata": {
        "id": "7SAU8Z8T3Cz1"
      }
    },
    {
      "cell_type": "code",
      "source": [
        "data['Customer Feedback'].fillna(data['Customer Feedback'].mode()[0],inplace=True)\n",
        "test['Customer Feedback'].fillna(test['Customer Feedback'].mode()[0],inplace=True)"
      ],
      "metadata": {
        "colab": {
          "base_uri": "https://localhost:8080/"
        },
        "collapsed": true,
        "id": "6-dB5Ja52duq",
        "outputId": "a407f555-f26d-4044-aacc-dcba650074ab"
      },
      "execution_count": 226,
      "outputs": [
        {
          "output_type": "stream",
          "name": "stderr",
          "text": [
            "<ipython-input-226-d45ae3605072>:1: FutureWarning: A value is trying to be set on a copy of a DataFrame or Series through chained assignment using an inplace method.\n",
            "The behavior will change in pandas 3.0. This inplace method will never work because the intermediate object on which we are setting values always behaves as a copy.\n",
            "\n",
            "For example, when doing 'df[col].method(value, inplace=True)', try using 'df.method({col: value}, inplace=True)' or df[col] = df[col].method(value) instead, to perform the operation inplace on the original object.\n",
            "\n",
            "\n",
            "  data['Customer Feedback'].fillna(data['Customer Feedback'].mode()[0],inplace=True)\n",
            "<ipython-input-226-d45ae3605072>:2: FutureWarning: A value is trying to be set on a copy of a DataFrame or Series through chained assignment using an inplace method.\n",
            "The behavior will change in pandas 3.0. This inplace method will never work because the intermediate object on which we are setting values always behaves as a copy.\n",
            "\n",
            "For example, when doing 'df[col].method(value, inplace=True)', try using 'df.method({col: value}, inplace=True)' or df[col] = df[col].method(value) instead, to perform the operation inplace on the original object.\n",
            "\n",
            "\n",
            "  test['Customer Feedback'].fillna(test['Customer Feedback'].mode()[0],inplace=True)\n"
          ]
        }
      ]
    },
    {
      "cell_type": "code",
      "source": [
        "# Apply get_dummies to the DataFrame, specifying the column\n",
        "data = pd.get_dummies(data, columns=['Customer Feedback'], drop_first=True)\n",
        "test = pd.get_dummies(test, columns=['Customer Feedback'], drop_first=True)"
      ],
      "metadata": {
        "id": "t-9-Fd2_45dW"
      },
      "execution_count": 227,
      "outputs": []
    },
    {
      "cell_type": "code",
      "source": [
        "data.shape,test.shape"
      ],
      "metadata": {
        "colab": {
          "base_uri": "https://localhost:8080/"
        },
        "id": "6GiVewpOTvvN",
        "outputId": "c8c63d23-ecfb-4b21-ab2b-8706389f2e97"
      },
      "execution_count": 228,
      "outputs": [
        {
          "output_type": "execute_result",
          "data": {
            "text/plain": [
              "((1200000, 22), (800000, 21))"
            ]
          },
          "metadata": {},
          "execution_count": 228
        }
      ]
    },
    {
      "cell_type": "markdown",
      "source": [
        "##### __Insurance Duration__ column"
      ],
      "metadata": {
        "id": "PhcF_TW45nHo"
      }
    },
    {
      "cell_type": "code",
      "source": [
        "print(data['Insurance Duration'].isnull().sum())\n",
        "print(test['Insurance Duration'].isnull().sum())"
      ],
      "metadata": {
        "colab": {
          "base_uri": "https://localhost:8080/"
        },
        "id": "Gm9KnLwV5vgd",
        "outputId": "76417d82-9d8d-472f-8624-29058435508f"
      },
      "execution_count": 229,
      "outputs": [
        {
          "output_type": "stream",
          "name": "stdout",
          "text": [
            "1\n",
            "2\n"
          ]
        }
      ]
    },
    {
      "cell_type": "code",
      "source": [
        "data['Insurance Duration'].value_counts()"
      ],
      "metadata": {
        "colab": {
          "base_uri": "https://localhost:8080/",
          "height": 0
        },
        "id": "dIPaXj-Z47q3",
        "outputId": "5b7133cb-6f57-447a-ff9a-8085c96eb573"
      },
      "execution_count": 230,
      "outputs": [
        {
          "output_type": "execute_result",
          "data": {
            "text/plain": [
              "Insurance Duration\n",
              "9.0    137781\n",
              "1.0    135072\n",
              "8.0    133800\n",
              "7.0    133592\n",
              "5.0    132253\n",
              "4.0    132182\n",
              "6.0    132141\n",
              "3.0    132018\n",
              "2.0    131160\n",
              "Name: count, dtype: int64"
            ],
            "text/html": [
              "<div>\n",
              "<style scoped>\n",
              "    .dataframe tbody tr th:only-of-type {\n",
              "        vertical-align: middle;\n",
              "    }\n",
              "\n",
              "    .dataframe tbody tr th {\n",
              "        vertical-align: top;\n",
              "    }\n",
              "\n",
              "    .dataframe thead th {\n",
              "        text-align: right;\n",
              "    }\n",
              "</style>\n",
              "<table border=\"1\" class=\"dataframe\">\n",
              "  <thead>\n",
              "    <tr style=\"text-align: right;\">\n",
              "      <th></th>\n",
              "      <th>count</th>\n",
              "    </tr>\n",
              "    <tr>\n",
              "      <th>Insurance Duration</th>\n",
              "      <th></th>\n",
              "    </tr>\n",
              "  </thead>\n",
              "  <tbody>\n",
              "    <tr>\n",
              "      <th>9.0</th>\n",
              "      <td>137781</td>\n",
              "    </tr>\n",
              "    <tr>\n",
              "      <th>1.0</th>\n",
              "      <td>135072</td>\n",
              "    </tr>\n",
              "    <tr>\n",
              "      <th>8.0</th>\n",
              "      <td>133800</td>\n",
              "    </tr>\n",
              "    <tr>\n",
              "      <th>7.0</th>\n",
              "      <td>133592</td>\n",
              "    </tr>\n",
              "    <tr>\n",
              "      <th>5.0</th>\n",
              "      <td>132253</td>\n",
              "    </tr>\n",
              "    <tr>\n",
              "      <th>4.0</th>\n",
              "      <td>132182</td>\n",
              "    </tr>\n",
              "    <tr>\n",
              "      <th>6.0</th>\n",
              "      <td>132141</td>\n",
              "    </tr>\n",
              "    <tr>\n",
              "      <th>3.0</th>\n",
              "      <td>132018</td>\n",
              "    </tr>\n",
              "    <tr>\n",
              "      <th>2.0</th>\n",
              "      <td>131160</td>\n",
              "    </tr>\n",
              "  </tbody>\n",
              "</table>\n",
              "</div><br><label><b>dtype:</b> int64</label>"
            ]
          },
          "metadata": {},
          "execution_count": 230
        }
      ]
    },
    {
      "cell_type": "code",
      "source": [
        "data['Insurance Duration'].fillna(data['Insurance Duration'].mode()[0],inplace=True)\n",
        "test['Insurance Duration'].fillna(test['Insurance Duration'].mode()[0],inplace=True)"
      ],
      "metadata": {
        "colab": {
          "base_uri": "https://localhost:8080/"
        },
        "collapsed": true,
        "id": "qsQrSW_t5uF0",
        "outputId": "969bf81b-14db-4737-f442-34948b9b04f7"
      },
      "execution_count": 231,
      "outputs": [
        {
          "output_type": "stream",
          "name": "stderr",
          "text": [
            "<ipython-input-231-b24037700636>:1: FutureWarning: A value is trying to be set on a copy of a DataFrame or Series through chained assignment using an inplace method.\n",
            "The behavior will change in pandas 3.0. This inplace method will never work because the intermediate object on which we are setting values always behaves as a copy.\n",
            "\n",
            "For example, when doing 'df[col].method(value, inplace=True)', try using 'df.method({col: value}, inplace=True)' or df[col] = df[col].method(value) instead, to perform the operation inplace on the original object.\n",
            "\n",
            "\n",
            "  data['Insurance Duration'].fillna(data['Insurance Duration'].mode()[0],inplace=True)\n",
            "<ipython-input-231-b24037700636>:2: FutureWarning: A value is trying to be set on a copy of a DataFrame or Series through chained assignment using an inplace method.\n",
            "The behavior will change in pandas 3.0. This inplace method will never work because the intermediate object on which we are setting values always behaves as a copy.\n",
            "\n",
            "For example, when doing 'df[col].method(value, inplace=True)', try using 'df.method({col: value}, inplace=True)' or df[col] = df[col].method(value) instead, to perform the operation inplace on the original object.\n",
            "\n",
            "\n",
            "  test['Insurance Duration'].fillna(test['Insurance Duration'].mode()[0],inplace=True)\n"
          ]
        }
      ]
    },
    {
      "cell_type": "code",
      "source": [
        "data['Insurance Duration'].value_counts()"
      ],
      "metadata": {
        "colab": {
          "base_uri": "https://localhost:8080/",
          "height": 0
        },
        "id": "dh-ZVgD4517W",
        "outputId": "780effd9-19ae-43b6-d4af-3f2d9b52e8a5"
      },
      "execution_count": 232,
      "outputs": [
        {
          "output_type": "execute_result",
          "data": {
            "text/plain": [
              "Insurance Duration\n",
              "9.0    137782\n",
              "1.0    135072\n",
              "8.0    133800\n",
              "7.0    133592\n",
              "5.0    132253\n",
              "4.0    132182\n",
              "6.0    132141\n",
              "3.0    132018\n",
              "2.0    131160\n",
              "Name: count, dtype: int64"
            ],
            "text/html": [
              "<div>\n",
              "<style scoped>\n",
              "    .dataframe tbody tr th:only-of-type {\n",
              "        vertical-align: middle;\n",
              "    }\n",
              "\n",
              "    .dataframe tbody tr th {\n",
              "        vertical-align: top;\n",
              "    }\n",
              "\n",
              "    .dataframe thead th {\n",
              "        text-align: right;\n",
              "    }\n",
              "</style>\n",
              "<table border=\"1\" class=\"dataframe\">\n",
              "  <thead>\n",
              "    <tr style=\"text-align: right;\">\n",
              "      <th></th>\n",
              "      <th>count</th>\n",
              "    </tr>\n",
              "    <tr>\n",
              "      <th>Insurance Duration</th>\n",
              "      <th></th>\n",
              "    </tr>\n",
              "  </thead>\n",
              "  <tbody>\n",
              "    <tr>\n",
              "      <th>9.0</th>\n",
              "      <td>137782</td>\n",
              "    </tr>\n",
              "    <tr>\n",
              "      <th>1.0</th>\n",
              "      <td>135072</td>\n",
              "    </tr>\n",
              "    <tr>\n",
              "      <th>8.0</th>\n",
              "      <td>133800</td>\n",
              "    </tr>\n",
              "    <tr>\n",
              "      <th>7.0</th>\n",
              "      <td>133592</td>\n",
              "    </tr>\n",
              "    <tr>\n",
              "      <th>5.0</th>\n",
              "      <td>132253</td>\n",
              "    </tr>\n",
              "    <tr>\n",
              "      <th>4.0</th>\n",
              "      <td>132182</td>\n",
              "    </tr>\n",
              "    <tr>\n",
              "      <th>6.0</th>\n",
              "      <td>132141</td>\n",
              "    </tr>\n",
              "    <tr>\n",
              "      <th>3.0</th>\n",
              "      <td>132018</td>\n",
              "    </tr>\n",
              "    <tr>\n",
              "      <th>2.0</th>\n",
              "      <td>131160</td>\n",
              "    </tr>\n",
              "  </tbody>\n",
              "</table>\n",
              "</div><br><label><b>dtype:</b> int64</label>"
            ]
          },
          "metadata": {},
          "execution_count": 232
        }
      ]
    },
    {
      "cell_type": "code",
      "source": [
        "data = pd.get_dummies(data, columns=['Insurance Duration'], drop_first=True)\n",
        "test = pd.get_dummies(test, columns=['Insurance Duration'], drop_first=True)"
      ],
      "metadata": {
        "id": "l_jhbHI9T745"
      },
      "execution_count": 233,
      "outputs": []
    },
    {
      "cell_type": "code",
      "source": [
        "data.shape,test.shape"
      ],
      "metadata": {
        "colab": {
          "base_uri": "https://localhost:8080/"
        },
        "id": "HBmnUXTrT_CA",
        "outputId": "288688fa-abac-4d4b-a3e6-84680abe632e"
      },
      "execution_count": 234,
      "outputs": [
        {
          "output_type": "execute_result",
          "data": {
            "text/plain": [
              "((1200000, 29), (800000, 28))"
            ]
          },
          "metadata": {},
          "execution_count": 234
        }
      ]
    },
    {
      "cell_type": "code",
      "source": [
        "data.info()"
      ],
      "metadata": {
        "colab": {
          "base_uri": "https://localhost:8080/"
        },
        "id": "mWnQklmyUHfZ",
        "outputId": "19dc30b1-4237-49ef-a362-4d1eae631ebd"
      },
      "execution_count": 235,
      "outputs": [
        {
          "output_type": "stream",
          "name": "stdout",
          "text": [
            "<class 'pandas.core.frame.DataFrame'>\n",
            "RangeIndex: 1200000 entries, 0 to 1199999\n",
            "Data columns (total 29 columns):\n",
            " #   Column                  Non-Null Count    Dtype  \n",
            "---  ------                  --------------    -----  \n",
            " 0   id                      1200000 non-null  int64  \n",
            " 1   Age                     1181295 non-null  float64\n",
            " 2   Gender                  1200000 non-null  object \n",
            " 3   Annual Income           1155051 non-null  float64\n",
            " 4   Marital Status          1181471 non-null  object \n",
            " 5   Number of Dependents    1090328 non-null  float64\n",
            " 6   Education Level         1200000 non-null  object \n",
            " 7   Occupation              841925 non-null   object \n",
            " 8   Health Score            1125924 non-null  float64\n",
            " 9   Location                1200000 non-null  object \n",
            " 10  Policy Type             1200000 non-null  object \n",
            " 11  Previous Claims         835971 non-null   float64\n",
            " 12  Vehicle Age             1199994 non-null  float64\n",
            " 13  Credit Score            1062118 non-null  float64\n",
            " 14  Policy Start Date       1200000 non-null  object \n",
            " 15  Smoking Status          1200000 non-null  object \n",
            " 16  Exercise Frequency      1200000 non-null  object \n",
            " 17  Property Type           1200000 non-null  object \n",
            " 18  Premium Amount          1200000 non-null  float64\n",
            " 19  Customer Feedback_Good  1200000 non-null  bool   \n",
            " 20  Customer Feedback_Poor  1200000 non-null  bool   \n",
            " 21  Insurance Duration_2.0  1200000 non-null  bool   \n",
            " 22  Insurance Duration_3.0  1200000 non-null  bool   \n",
            " 23  Insurance Duration_4.0  1200000 non-null  bool   \n",
            " 24  Insurance Duration_5.0  1200000 non-null  bool   \n",
            " 25  Insurance Duration_6.0  1200000 non-null  bool   \n",
            " 26  Insurance Duration_7.0  1200000 non-null  bool   \n",
            " 27  Insurance Duration_8.0  1200000 non-null  bool   \n",
            " 28  Insurance Duration_9.0  1200000 non-null  bool   \n",
            "dtypes: bool(10), float64(8), int64(1), object(10)\n",
            "memory usage: 185.4+ MB\n"
          ]
        }
      ]
    },
    {
      "cell_type": "code",
      "source": [
        "objectType = []\n",
        "for i in data.columns:\n",
        "  if data[i].dtype == 'object':\n",
        "    objectType.append(i)"
      ],
      "metadata": {
        "id": "4zUhrDKzUZme"
      },
      "execution_count": 236,
      "outputs": []
    },
    {
      "cell_type": "code",
      "source": [
        "# df = data.copy()\n",
        "# tf = test.copy()\n",
        "# data.shape,test.shape"
      ],
      "metadata": {
        "id": "prpb75FjUiI4"
      },
      "execution_count": 237,
      "outputs": []
    },
    {
      "cell_type": "code",
      "source": [
        "# data = pd.get_dummies(data, columns=objectType, drop_first=True)\n",
        "# test = pd.get_dummies(test, columns=objectType, drop_first=True)"
      ],
      "metadata": {
        "id": "pFRTc7-yUeZn"
      },
      "execution_count": 238,
      "outputs": []
    },
    {
      "cell_type": "code",
      "source": [
        "data.shape,test.shape"
      ],
      "metadata": {
        "colab": {
          "base_uri": "https://localhost:8080/"
        },
        "id": "sQarYZOdUprD",
        "outputId": "caeb94a6-e6e5-4ed0-b281-9de279422856"
      },
      "execution_count": 239,
      "outputs": [
        {
          "output_type": "execute_result",
          "data": {
            "text/plain": [
              "((1200000, 29), (800000, 28))"
            ]
          },
          "metadata": {},
          "execution_count": 239
        }
      ]
    },
    {
      "cell_type": "markdown",
      "source": [
        "##### __Credit Score__ column"
      ],
      "metadata": {
        "id": "T3yCXMda58Kw"
      }
    },
    {
      "cell_type": "code",
      "source": [
        "print(data['Credit Score'].isnull().sum())\n",
        "print(test['Credit Score'].isnull().sum())"
      ],
      "metadata": {
        "colab": {
          "base_uri": "https://localhost:8080/"
        },
        "id": "0b9vcDEq54dq",
        "outputId": "0ca868c7-da85-4d5b-ac60-af210b77f59d"
      },
      "execution_count": 240,
      "outputs": [
        {
          "output_type": "stream",
          "name": "stdout",
          "text": [
            "137882\n",
            "91451\n"
          ]
        }
      ]
    },
    {
      "cell_type": "code",
      "source": [
        "data['Credit Score'].value_counts().plot(kind='bar')"
      ],
      "metadata": {
        "colab": {
          "base_uri": "https://localhost:8080/",
          "height": 0
        },
        "id": "6c0_IKQV6Ci1",
        "outputId": "76f017dc-638a-4822-b94f-db3de3e2dd65"
      },
      "execution_count": 241,
      "outputs": [
        {
          "output_type": "execute_result",
          "data": {
            "text/plain": [
              "<Axes: xlabel='Credit Score'>"
            ]
          },
          "metadata": {},
          "execution_count": 241
        },
        {
          "output_type": "display_data",
          "data": {
            "text/plain": [
              "<Figure size 640x480 with 1 Axes>"
            ],
            "image/png": "[encoded data removed]"
          },
          "metadata": {}
        }
      ]
    },
    {
      "cell_type": "markdown",
      "source": [
        "##### __Vehicle Age__ column"
      ],
      "metadata": {
        "id": "MESnDw3nPoGi"
      }
    },
    {
      "cell_type": "code",
      "source": [
        "print(data['Vehicle Age'].isnull().sum())\n",
        "print(test['Vehicle Age'].isnull().sum())"
      ],
      "metadata": {
        "colab": {
          "base_uri": "https://localhost:8080/"
        },
        "id": "3HEw1enRP6M0",
        "outputId": "a60fe6f2-b26d-4b21-d775-7d6b2d6d4824"
      },
      "execution_count": 242,
      "outputs": [
        {
          "output_type": "stream",
          "name": "stdout",
          "text": [
            "6\n",
            "3\n"
          ]
        }
      ]
    },
    {
      "cell_type": "code",
      "source": [
        "data['Vehicle Age'].value_counts().plot(kind='kde')"
      ],
      "metadata": {
        "id": "CTg8K7f-6MVh",
        "colab": {
          "base_uri": "https://localhost:8080/",
          "height": 0
        },
        "outputId": "2db42e5c-ceb3-461a-e765-06ff6966acab"
      },
      "execution_count": 243,
      "outputs": [
        {
          "output_type": "execute_result",
          "data": {
            "text/plain": [
              "<Axes: ylabel='Density'>"
            ]
          },
          "metadata": {},
          "execution_count": 243
        },
        {
          "output_type": "display_data",
          "data": {
            "text/plain": [
              "<Figure size 640x480 with 1 Axes>"
            ],
            "image/png": "[encoded data removed]"
          },
          "metadata": {}
        }
      ]
    },
    {
      "cell_type": "code",
      "source": [
        "test['Vehicle Age'].value_counts()"
      ],
      "metadata": {
        "colab": {
          "base_uri": "https://localhost:8080/",
          "height": 0
        },
        "collapsed": true,
        "id": "xyn3NR8mPxGa",
        "outputId": "98029931-b325-4401-c08a-f0379df016ae"
      },
      "execution_count": 244,
      "outputs": [
        {
          "output_type": "execute_result",
          "data": {
            "text/plain": [
              "Vehicle Age\n",
              "11.0    41556\n",
              "17.0    41406\n",
              "14.0    40827\n",
              "18.0    40735\n",
              "0.0     40617\n",
              "10.0    40501\n",
              "19.0    40484\n",
              "15.0    40405\n",
              "16.0    40328\n",
              "12.0    40145\n",
              "2.0     40124\n",
              "9.0     40088\n",
              "5.0     39767\n",
              "3.0     39561\n",
              "7.0     39500\n",
              "13.0    39383\n",
              "8.0     39009\n",
              "4.0     38963\n",
              "6.0     38566\n",
              "1.0     38032\n",
              "Name: count, dtype: int64"
            ],
            "text/html": [
              "<div>\n",
              "<style scoped>\n",
              "    .dataframe tbody tr th:only-of-type {\n",
              "        vertical-align: middle;\n",
              "    }\n",
              "\n",
              "    .dataframe tbody tr th {\n",
              "        vertical-align: top;\n",
              "    }\n",
              "\n",
              "    .dataframe thead th {\n",
              "        text-align: right;\n",
              "    }\n",
              "</style>\n",
              "<table border=\"1\" class=\"dataframe\">\n",
              "  <thead>\n",
              "    <tr style=\"text-align: right;\">\n",
              "      <th></th>\n",
              "      <th>count</th>\n",
              "    </tr>\n",
              "    <tr>\n",
              "      <th>Vehicle Age</th>\n",
              "      <th></th>\n",
              "    </tr>\n",
              "  </thead>\n",
              "  <tbody>\n",
              "    <tr>\n",
              "      <th>11.0</th>\n",
              "      <td>41556</td>\n",
              "    </tr>\n",
              "    <tr>\n",
              "      <th>17.0</th>\n",
              "      <td>41406</td>\n",
              "    </tr>\n",
              "    <tr>\n",
              "      <th>14.0</th>\n",
              "      <td>40827</td>\n",
              "    </tr>\n",
              "    <tr>\n",
              "      <th>18.0</th>\n",
              "      <td>40735</td>\n",
              "    </tr>\n",
              "    <tr>\n",
              "      <th>0.0</th>\n",
              "      <td>40617</td>\n",
              "    </tr>\n",
              "    <tr>\n",
              "      <th>10.0</th>\n",
              "      <td>40501</td>\n",
              "    </tr>\n",
              "    <tr>\n",
              "      <th>19.0</th>\n",
              "      <td>40484</td>\n",
              "    </tr>\n",
              "    <tr>\n",
              "      <th>15.0</th>\n",
              "      <td>40405</td>\n",
              "    </tr>\n",
              "    <tr>\n",
              "      <th>16.0</th>\n",
              "      <td>40328</td>\n",
              "    </tr>\n",
              "    <tr>\n",
              "      <th>12.0</th>\n",
              "      <td>40145</td>\n",
              "    </tr>\n",
              "    <tr>\n",
              "      <th>2.0</th>\n",
              "      <td>40124</td>\n",
              "    </tr>\n",
              "    <tr>\n",
              "      <th>9.0</th>\n",
              "      <td>40088</td>\n",
              "    </tr>\n",
              "    <tr>\n",
              "      <th>5.0</th>\n",
              "      <td>39767</td>\n",
              "    </tr>\n",
              "    <tr>\n",
              "      <th>3.0</th>\n",
              "      <td>39561</td>\n",
              "    </tr>\n",
              "    <tr>\n",
              "      <th>7.0</th>\n",
              "      <td>39500</td>\n",
              "    </tr>\n",
              "    <tr>\n",
              "      <th>13.0</th>\n",
              "      <td>39383</td>\n",
              "    </tr>\n",
              "    <tr>\n",
              "      <th>8.0</th>\n",
              "      <td>39009</td>\n",
              "    </tr>\n",
              "    <tr>\n",
              "      <th>4.0</th>\n",
              "      <td>38963</td>\n",
              "    </tr>\n",
              "    <tr>\n",
              "      <th>6.0</th>\n",
              "      <td>38566</td>\n",
              "    </tr>\n",
              "    <tr>\n",
              "      <th>1.0</th>\n",
              "      <td>38032</td>\n",
              "    </tr>\n",
              "  </tbody>\n",
              "</table>\n",
              "</div><br><label><b>dtype:</b> int64</label>"
            ]
          },
          "metadata": {},
          "execution_count": 244
        }
      ]
    },
    {
      "cell_type": "code",
      "source": [
        "data['Vehicle Age'].fillna(7.0,inplace=True)\n",
        "test['Vehicle Age'].fillna(7.0,inplace=True)"
      ],
      "metadata": {
        "colab": {
          "base_uri": "https://localhost:8080/"
        },
        "collapsed": true,
        "id": "d_jLbyDgQETp",
        "outputId": "6d72d0a5-cd18-4420-ac94-8b5105844da6"
      },
      "execution_count": 245,
      "outputs": [
        {
          "output_type": "stream",
          "name": "stderr",
          "text": [
            "<ipython-input-245-6c30d9509947>:1: FutureWarning: A value is trying to be set on a copy of a DataFrame or Series through chained assignment using an inplace method.\n",
            "The behavior will change in pandas 3.0. This inplace method will never work because the intermediate object on which we are setting values always behaves as a copy.\n",
            "\n",
            "For example, when doing 'df[col].method(value, inplace=True)', try using 'df.method({col: value}, inplace=True)' or df[col] = df[col].method(value) instead, to perform the operation inplace on the original object.\n",
            "\n",
            "\n",
            "  data['Vehicle Age'].fillna(7.0,inplace=True)\n",
            "<ipython-input-245-6c30d9509947>:2: FutureWarning: A value is trying to be set on a copy of a DataFrame or Series through chained assignment using an inplace method.\n",
            "The behavior will change in pandas 3.0. This inplace method will never work because the intermediate object on which we are setting values always behaves as a copy.\n",
            "\n",
            "For example, when doing 'df[col].method(value, inplace=True)', try using 'df.method({col: value}, inplace=True)' or df[col] = df[col].method(value) instead, to perform the operation inplace on the original object.\n",
            "\n",
            "\n",
            "  test['Vehicle Age'].fillna(7.0,inplace=True)\n"
          ]
        }
      ]
    },
    {
      "cell_type": "code",
      "source": [
        "data['Vehicle Age'].value_counts().plot(kind='kde')"
      ],
      "metadata": {
        "colab": {
          "base_uri": "https://localhost:8080/",
          "height": 0
        },
        "id": "Mj17YrV5QXYy",
        "outputId": "163b3ef4-272b-4f1f-dcb7-2f592a7662a0"
      },
      "execution_count": 246,
      "outputs": [
        {
          "output_type": "execute_result",
          "data": {
            "text/plain": [
              "<Axes: ylabel='Density'>"
            ]
          },
          "metadata": {},
          "execution_count": 246
        },
        {
          "output_type": "display_data",
          "data": {
            "text/plain": [
              "<Figure size 640x480 with 1 Axes>"
            ],
            "image/png": "[encoded data removed]"
          },
          "metadata": {}
        }
      ]
    },
    {
      "cell_type": "code",
      "source": [
        "print(data['Vehicle Age'].isnull().sum())\n",
        "print(test['Vehicle Age'].isnull().sum())"
      ],
      "metadata": {
        "colab": {
          "base_uri": "https://localhost:8080/"
        },
        "id": "E3UgrMKnQxOc",
        "outputId": "e27d6a72-b65e-4244-f064-3088d442c622"
      },
      "execution_count": 247,
      "outputs": [
        {
          "output_type": "stream",
          "name": "stdout",
          "text": [
            "0\n",
            "0\n"
          ]
        }
      ]
    },
    {
      "cell_type": "markdown",
      "source": [
        "##### __Previous Claims__ column"
      ],
      "metadata": {
        "id": "0qQia2s1RcrA"
      }
    },
    {
      "cell_type": "code",
      "source": [
        "print(data['Previous Claims'].isnull().sum())\n",
        "print(test['Previous Claims'].isnull().sum())"
      ],
      "metadata": {
        "colab": {
          "base_uri": "https://localhost:8080/"
        },
        "id": "InaKaVmUQbf1",
        "outputId": "ffd74ca4-3aaa-41fe-c449-c1f9a5f80596"
      },
      "execution_count": 248,
      "outputs": [
        {
          "output_type": "stream",
          "name": "stdout",
          "text": [
            "364029\n",
            "242802\n"
          ]
        }
      ]
    },
    {
      "cell_type": "code",
      "source": [
        "data.info()"
      ],
      "metadata": {
        "colab": {
          "base_uri": "https://localhost:8080/"
        },
        "id": "4pbINOqCRvOd",
        "outputId": "565f3d7c-7eeb-4c3d-a4be-142824fc4f4e"
      },
      "execution_count": 249,
      "outputs": [
        {
          "output_type": "stream",
          "name": "stdout",
          "text": [
            "<class 'pandas.core.frame.DataFrame'>\n",
            "RangeIndex: 1200000 entries, 0 to 1199999\n",
            "Data columns (total 29 columns):\n",
            " #   Column                  Non-Null Count    Dtype  \n",
            "---  ------                  --------------    -----  \n",
            " 0   id                      1200000 non-null  int64  \n",
            " 1   Age                     1181295 non-null  float64\n",
            " 2   Gender                  1200000 non-null  object \n",
            " 3   Annual Income           1155051 non-null  float64\n",
            " 4   Marital Status          1181471 non-null  object \n",
            " 5   Number of Dependents    1090328 non-null  float64\n",
            " 6   Education Level         1200000 non-null  object \n",
            " 7   Occupation              841925 non-null   object \n",
            " 8   Health Score            1125924 non-null  float64\n",
            " 9   Location                1200000 non-null  object \n",
            " 10  Policy Type             1200000 non-null  object \n",
            " 11  Previous Claims         835971 non-null   float64\n",
            " 12  Vehicle Age             1200000 non-null  float64\n",
            " 13  Credit Score            1062118 non-null  float64\n",
            " 14  Policy Start Date       1200000 non-null  object \n",
            " 15  Smoking Status          1200000 non-null  object \n",
            " 16  Exercise Frequency      1200000 non-null  object \n",
            " 17  Property Type           1200000 non-null  object \n",
            " 18  Premium Amount          1200000 non-null  float64\n",
            " 19  Customer Feedback_Good  1200000 non-null  bool   \n",
            " 20  Customer Feedback_Poor  1200000 non-null  bool   \n",
            " 21  Insurance Duration_2.0  1200000 non-null  bool   \n",
            " 22  Insurance Duration_3.0  1200000 non-null  bool   \n",
            " 23  Insurance Duration_4.0  1200000 non-null  bool   \n",
            " 24  Insurance Duration_5.0  1200000 non-null  bool   \n",
            " 25  Insurance Duration_6.0  1200000 non-null  bool   \n",
            " 26  Insurance Duration_7.0  1200000 non-null  bool   \n",
            " 27  Insurance Duration_8.0  1200000 non-null  bool   \n",
            " 28  Insurance Duration_9.0  1200000 non-null  bool   \n",
            "dtypes: bool(10), float64(8), int64(1), object(10)\n",
            "memory usage: 185.4+ MB\n"
          ]
        }
      ]
    },
    {
      "cell_type": "code",
      "source": [
        "test['Previous Claims'].value_counts()"
      ],
      "metadata": {
        "colab": {
          "base_uri": "https://localhost:8080/",
          "height": 0
        },
        "id": "5tcmKhU-RSK8",
        "outputId": "3b37fc05-d842-4504-a43a-22da9e31f041"
      },
      "execution_count": 250,
      "outputs": [
        {
          "output_type": "execute_result",
          "data": {
            "text/plain": [
              "Previous Claims\n",
              "0.0    202806\n",
              "1.0    200881\n",
              "2.0    112100\n",
              "3.0     32753\n",
              "4.0      7021\n",
              "5.0      1393\n",
              "6.0       204\n",
              "7.0        28\n",
              "9.0         8\n",
              "8.0         4\n",
              "Name: count, dtype: int64"
            ],
            "text/html": [
              "<div>\n",
              "<style scoped>\n",
              "    .dataframe tbody tr th:only-of-type {\n",
              "        vertical-align: middle;\n",
              "    }\n",
              "\n",
              "    .dataframe tbody tr th {\n",
              "        vertical-align: top;\n",
              "    }\n",
              "\n",
              "    .dataframe thead th {\n",
              "        text-align: right;\n",
              "    }\n",
              "</style>\n",
              "<table border=\"1\" class=\"dataframe\">\n",
              "  <thead>\n",
              "    <tr style=\"text-align: right;\">\n",
              "      <th></th>\n",
              "      <th>count</th>\n",
              "    </tr>\n",
              "    <tr>\n",
              "      <th>Previous Claims</th>\n",
              "      <th></th>\n",
              "    </tr>\n",
              "  </thead>\n",
              "  <tbody>\n",
              "    <tr>\n",
              "      <th>0.0</th>\n",
              "      <td>202806</td>\n",
              "    </tr>\n",
              "    <tr>\n",
              "      <th>1.0</th>\n",
              "      <td>200881</td>\n",
              "    </tr>\n",
              "    <tr>\n",
              "      <th>2.0</th>\n",
              "      <td>112100</td>\n",
              "    </tr>\n",
              "    <tr>\n",
              "      <th>3.0</th>\n",
              "      <td>32753</td>\n",
              "    </tr>\n",
              "    <tr>\n",
              "      <th>4.0</th>\n",
              "      <td>7021</td>\n",
              "    </tr>\n",
              "    <tr>\n",
              "      <th>5.0</th>\n",
              "      <td>1393</td>\n",
              "    </tr>\n",
              "    <tr>\n",
              "      <th>6.0</th>\n",
              "      <td>204</td>\n",
              "    </tr>\n",
              "    <tr>\n",
              "      <th>7.0</th>\n",
              "      <td>28</td>\n",
              "    </tr>\n",
              "    <tr>\n",
              "      <th>9.0</th>\n",
              "      <td>8</td>\n",
              "    </tr>\n",
              "    <tr>\n",
              "      <th>8.0</th>\n",
              "      <td>4</td>\n",
              "    </tr>\n",
              "  </tbody>\n",
              "</table>\n",
              "</div><br><label><b>dtype:</b> int64</label>"
            ]
          },
          "metadata": {},
          "execution_count": 250
        }
      ]
    },
    {
      "cell_type": "code",
      "source": [
        "df_PC_thereshold = 10667\n",
        "tf_PC_thereshold = 7020\n",
        "df_pC_count = data['Previous Claims'].value_counts()\n",
        "tf_pC_count = test['Previous Claims'].value_counts()\n",
        "replce_df_PC = df_pC_count[df_PC_thereshold>df_pC_count].index\n",
        "replce_tf_PC = tf_pC_count[tf_PC_thereshold>tf_pC_count].index"
      ],
      "metadata": {
        "id": "O3zsgL7YRWe8"
      },
      "execution_count": 251,
      "outputs": []
    },
    {
      "cell_type": "code",
      "source": [
        "data['Previous Claims'] = data['Previous Claims'].replace(replce_df_PC,5.0)\n",
        "test['Previous Claims'] = test['Previous Claims'].replace(replce_tf_PC,5.0)"
      ],
      "metadata": {
        "id": "RbpHv638StYa"
      },
      "execution_count": 252,
      "outputs": []
    },
    {
      "cell_type": "code",
      "source": [
        "data['Previous Claims'].value_counts()"
      ],
      "metadata": {
        "colab": {
          "base_uri": "https://localhost:8080/",
          "height": 0
        },
        "id": "-Nyf4cc7Ti6n",
        "outputId": "bdb44c6f-efd8-47a2-af98-66e1490b119d"
      },
      "execution_count": 253,
      "outputs": [
        {
          "output_type": "execute_result",
          "data": {
            "text/plain": [
              "Previous Claims\n",
              "0.0    305433\n",
              "1.0    300811\n",
              "2.0    167661\n",
              "3.0     49011\n",
              "4.0     10668\n",
              "5.0      2387\n",
              "Name: count, dtype: int64"
            ],
            "text/html": [
              "<div>\n",
              "<style scoped>\n",
              "    .dataframe tbody tr th:only-of-type {\n",
              "        vertical-align: middle;\n",
              "    }\n",
              "\n",
              "    .dataframe tbody tr th {\n",
              "        vertical-align: top;\n",
              "    }\n",
              "\n",
              "    .dataframe thead th {\n",
              "        text-align: right;\n",
              "    }\n",
              "</style>\n",
              "<table border=\"1\" class=\"dataframe\">\n",
              "  <thead>\n",
              "    <tr style=\"text-align: right;\">\n",
              "      <th></th>\n",
              "      <th>count</th>\n",
              "    </tr>\n",
              "    <tr>\n",
              "      <th>Previous Claims</th>\n",
              "      <th></th>\n",
              "    </tr>\n",
              "  </thead>\n",
              "  <tbody>\n",
              "    <tr>\n",
              "      <th>0.0</th>\n",
              "      <td>305433</td>\n",
              "    </tr>\n",
              "    <tr>\n",
              "      <th>1.0</th>\n",
              "      <td>300811</td>\n",
              "    </tr>\n",
              "    <tr>\n",
              "      <th>2.0</th>\n",
              "      <td>167661</td>\n",
              "    </tr>\n",
              "    <tr>\n",
              "      <th>3.0</th>\n",
              "      <td>49011</td>\n",
              "    </tr>\n",
              "    <tr>\n",
              "      <th>4.0</th>\n",
              "      <td>10668</td>\n",
              "    </tr>\n",
              "    <tr>\n",
              "      <th>5.0</th>\n",
              "      <td>2387</td>\n",
              "    </tr>\n",
              "  </tbody>\n",
              "</table>\n",
              "</div><br><label><b>dtype:</b> int64</label>"
            ]
          },
          "metadata": {},
          "execution_count": 253
        }
      ]
    },
    {
      "cell_type": "code",
      "source": [
        "data['Previous Claims'].fillna(data['Previous Claims'].mode()[0],inplace=True)\n",
        "test['Previous Claims'].fillna(test['Previous Claims'].mode()[0],inplace=True)"
      ],
      "metadata": {
        "colab": {
          "base_uri": "https://localhost:8080/"
        },
        "collapsed": true,
        "id": "BSsiIlghTlyQ",
        "outputId": "63db59df-1870-4d81-bf35-2a58c8c17a27"
      },
      "execution_count": 254,
      "outputs": [
        {
          "output_type": "stream",
          "name": "stderr",
          "text": [
            "<ipython-input-254-8211dd385040>:1: FutureWarning: A value is trying to be set on a copy of a DataFrame or Series through chained assignment using an inplace method.\n",
            "The behavior will change in pandas 3.0. This inplace method will never work because the intermediate object on which we are setting values always behaves as a copy.\n",
            "\n",
            "For example, when doing 'df[col].method(value, inplace=True)', try using 'df.method({col: value}, inplace=True)' or df[col] = df[col].method(value) instead, to perform the operation inplace on the original object.\n",
            "\n",
            "\n",
            "  data['Previous Claims'].fillna(data['Previous Claims'].mode()[0],inplace=True)\n",
            "<ipython-input-254-8211dd385040>:2: FutureWarning: A value is trying to be set on a copy of a DataFrame or Series through chained assignment using an inplace method.\n",
            "The behavior will change in pandas 3.0. This inplace method will never work because the intermediate object on which we are setting values always behaves as a copy.\n",
            "\n",
            "For example, when doing 'df[col].method(value, inplace=True)', try using 'df.method({col: value}, inplace=True)' or df[col] = df[col].method(value) instead, to perform the operation inplace on the original object.\n",
            "\n",
            "\n",
            "  test['Previous Claims'].fillna(test['Previous Claims'].mode()[0],inplace=True)\n"
          ]
        }
      ]
    },
    {
      "cell_type": "code",
      "source": [
        "data.info()"
      ],
      "metadata": {
        "colab": {
          "base_uri": "https://localhost:8080/"
        },
        "id": "I8vb6RwKTweb",
        "outputId": "4aa5deae-6b48-4fea-f5fb-e102fd9171a7"
      },
      "execution_count": 255,
      "outputs": [
        {
          "output_type": "stream",
          "name": "stdout",
          "text": [
            "<class 'pandas.core.frame.DataFrame'>\n",
            "RangeIndex: 1200000 entries, 0 to 1199999\n",
            "Data columns (total 29 columns):\n",
            " #   Column                  Non-Null Count    Dtype  \n",
            "---  ------                  --------------    -----  \n",
            " 0   id                      1200000 non-null  int64  \n",
            " 1   Age                     1181295 non-null  float64\n",
            " 2   Gender                  1200000 non-null  object \n",
            " 3   Annual Income           1155051 non-null  float64\n",
            " 4   Marital Status          1181471 non-null  object \n",
            " 5   Number of Dependents    1090328 non-null  float64\n",
            " 6   Education Level         1200000 non-null  object \n",
            " 7   Occupation              841925 non-null   object \n",
            " 8   Health Score            1125924 non-null  float64\n",
            " 9   Location                1200000 non-null  object \n",
            " 10  Policy Type             1200000 non-null  object \n",
            " 11  Previous Claims         1200000 non-null  float64\n",
            " 12  Vehicle Age             1200000 non-null  float64\n",
            " 13  Credit Score            1062118 non-null  float64\n",
            " 14  Policy Start Date       1200000 non-null  object \n",
            " 15  Smoking Status          1200000 non-null  object \n",
            " 16  Exercise Frequency      1200000 non-null  object \n",
            " 17  Property Type           1200000 non-null  object \n",
            " 18  Premium Amount          1200000 non-null  float64\n",
            " 19  Customer Feedback_Good  1200000 non-null  bool   \n",
            " 20  Customer Feedback_Poor  1200000 non-null  bool   \n",
            " 21  Insurance Duration_2.0  1200000 non-null  bool   \n",
            " 22  Insurance Duration_3.0  1200000 non-null  bool   \n",
            " 23  Insurance Duration_4.0  1200000 non-null  bool   \n",
            " 24  Insurance Duration_5.0  1200000 non-null  bool   \n",
            " 25  Insurance Duration_6.0  1200000 non-null  bool   \n",
            " 26  Insurance Duration_7.0  1200000 non-null  bool   \n",
            " 27  Insurance Duration_8.0  1200000 non-null  bool   \n",
            " 28  Insurance Duration_9.0  1200000 non-null  bool   \n",
            "dtypes: bool(10), float64(8), int64(1), object(10)\n",
            "memory usage: 185.4+ MB\n"
          ]
        }
      ]
    },
    {
      "cell_type": "markdown",
      "source": [
        "##### __Health Score__ column"
      ],
      "metadata": {
        "id": "ZhTNQ_q6UDkd"
      }
    },
    {
      "cell_type": "code",
      "source": [
        "print(data['Health Score'].isnull().sum())\n",
        "print(test['Health Score'].isnull().sum())"
      ],
      "metadata": {
        "colab": {
          "base_uri": "https://localhost:8080/"
        },
        "id": "TjrGMfkiT-3E",
        "outputId": "d9ad7122-db0b-49a9-9a57-31fc4dd52a96"
      },
      "execution_count": 256,
      "outputs": [
        {
          "output_type": "stream",
          "name": "stdout",
          "text": [
            "74076\n",
            "49449\n"
          ]
        }
      ]
    },
    {
      "cell_type": "code",
      "source": [
        "plt.figure(figsize=(10, 6))\n",
        "sns.distplot(data['Health Score'], kde=True)\n",
        "plt.title('Distribution of Health Score')\n",
        "plt.xlabel('Health Score')\n",
        "plt.ylabel('Density')\n",
        "plt.show()"
      ],
      "metadata": {
        "colab": {
          "base_uri": "https://localhost:8080/",
          "height": 0
        },
        "id": "A5Bqsf2QVXwk",
        "outputId": "5928decf-df03-4192-a7dd-cf60e812496a"
      },
      "execution_count": 257,
      "outputs": [
        {
          "output_type": "stream",
          "name": "stderr",
          "text": [
            "<ipython-input-257-5ddb8bead40a>:2: UserWarning: \n",
            "\n",
            "`distplot` is a deprecated function and will be removed in seaborn v0.14.0.\n",
            "\n",
            "Please adapt your code to use either `displot` (a figure-level function with\n",
            "similar flexibility) or `histplot` (an axes-level function for histograms).\n",
            "\n",
            "For a guide to updating your code to use the new functions, please see\n",
            "https://gist.github.com/mwaskom/de44147ed2974457ad6372750bbe5751\n",
            "\n",
            "  sns.distplot(data['Health Score'], kde=True)\n"
          ]
        },
        {
          "output_type": "display_data",
          "data": {
            "text/plain": [
              "<Figure size 1000x600 with 1 Axes>"
            ],
            "image/png": "[encoded data removed]"
          },
          "metadata": {}
        }
      ]
    },
    {
      "cell_type": "code",
      "source": [
        "# data['Health Score'].mean()"
      ],
      "metadata": {
        "id": "4qtqc6SnWVOq"
      },
      "execution_count": 258,
      "outputs": []
    },
    {
      "cell_type": "code",
      "source": [
        "# data['Health Score'].fillna(data['Health Score'].mean(),inplace=True)\n",
        "# test['Health Score'].fillna(test['Health Score'].mean(),inplace=True)"
      ],
      "metadata": {
        "collapsed": true,
        "id": "RwqSpJuYUJiR"
      },
      "execution_count": 259,
      "outputs": []
    },
    {
      "cell_type": "code",
      "source": [
        "column_name = 'Health Score'  # Replace with your actual column name\n",
        "train = data.copy()\n",
        "tf = test.copy()\n",
        "# Step 1: Fit a normal distribution on the training data\n",
        "observed_values_train = train[column_name].dropna()\n",
        "mu, sigma = observed_values_train.mean(), observed_values_train.std()\n",
        "\n",
        "# Step 2: Impute missing values in the training dataset\n",
        "missing_count_train = train[column_name].isna().sum()\n",
        "imputed_values_train = np.random.normal(loc=mu, scale=sigma, size=missing_count_train)\n",
        "train.loc[train[column_name].isna(), column_name] = imputed_values_train\n",
        "\n",
        "# Step 3: Impute missing values in the testing dataset using the same distribution\n",
        "missing_count_test = test[column_name].isna().sum()\n",
        "imputed_values_test = np.random.normal(loc=mu, scale=sigma, size=missing_count_test)\n",
        "test.loc[test[column_name].isna(), column_name] = imputed_values_test\n",
        "\n",
        "# Step 4: Plot distributions to verify results\n",
        "plt.figure(figsize=(12, 6))\n",
        "sns.histplot(train[column_name], kde=True, color=\"blue\", label=\"Train\", alpha=0.5)\n",
        "sns.histplot(test[column_name], kde=True, color=\"orange\", label=\"Test\", alpha=0.5)\n",
        "plt.title(\"Distributions of Health Score After Imputation\")\n",
        "plt.xlabel(\"Health Score\")\n",
        "plt.ylabel(\"Density\")\n",
        "plt.legend()\n",
        "plt.show()\n"
      ],
      "metadata": {
        "colab": {
          "base_uri": "https://localhost:8080/",
          "height": 0
        },
        "id": "efNey7K-XpRG",
        "outputId": "fd9faa7a-cca2-4b57-aa90-0507e1ba74ef"
      },
      "execution_count": 260,
      "outputs": [
        {
          "output_type": "display_data",
          "data": {
            "text/plain": [
              "<Figure size 1200x600 with 1 Axes>"
            ],
            "image/png": "[encoded data removed]"
          },
          "metadata": {}
        }
      ]
    },
    {
      "cell_type": "code",
      "source": [
        "print(train['Health Score'].isnull().sum())\n",
        "print(test['Health Score'].isnull().sum())"
      ],
      "metadata": {
        "colab": {
          "base_uri": "https://localhost:8080/"
        },
        "id": "mAI8FLSSUNr3",
        "outputId": "7d0799f8-1c79-475e-85da-f9a5fe8db9de"
      },
      "execution_count": 261,
      "outputs": [
        {
          "output_type": "stream",
          "name": "stdout",
          "text": [
            "0\n",
            "0\n"
          ]
        }
      ]
    },
    {
      "cell_type": "code",
      "source": [
        "train.info()"
      ],
      "metadata": {
        "colab": {
          "base_uri": "https://localhost:8080/"
        },
        "id": "6GnTD1XZXqeq",
        "outputId": "dee340e8-54ac-4942-e445-b9623d4bb73d"
      },
      "execution_count": 262,
      "outputs": [
        {
          "output_type": "stream",
          "name": "stdout",
          "text": [
            "<class 'pandas.core.frame.DataFrame'>\n",
            "RangeIndex: 1200000 entries, 0 to 1199999\n",
            "Data columns (total 29 columns):\n",
            " #   Column                  Non-Null Count    Dtype  \n",
            "---  ------                  --------------    -----  \n",
            " 0   id                      1200000 non-null  int64  \n",
            " 1   Age                     1181295 non-null  float64\n",
            " 2   Gender                  1200000 non-null  object \n",
            " 3   Annual Income           1155051 non-null  float64\n",
            " 4   Marital Status          1181471 non-null  object \n",
            " 5   Number of Dependents    1090328 non-null  float64\n",
            " 6   Education Level         1200000 non-null  object \n",
            " 7   Occupation              841925 non-null   object \n",
            " 8   Health Score            1200000 non-null  float64\n",
            " 9   Location                1200000 non-null  object \n",
            " 10  Policy Type             1200000 non-null  object \n",
            " 11  Previous Claims         1200000 non-null  float64\n",
            " 12  Vehicle Age             1200000 non-null  float64\n",
            " 13  Credit Score            1062118 non-null  float64\n",
            " 14  Policy Start Date       1200000 non-null  object \n",
            " 15  Smoking Status          1200000 non-null  object \n",
            " 16  Exercise Frequency      1200000 non-null  object \n",
            " 17  Property Type           1200000 non-null  object \n",
            " 18  Premium Amount          1200000 non-null  float64\n",
            " 19  Customer Feedback_Good  1200000 non-null  bool   \n",
            " 20  Customer Feedback_Poor  1200000 non-null  bool   \n",
            " 21  Insurance Duration_2.0  1200000 non-null  bool   \n",
            " 22  Insurance Duration_3.0  1200000 non-null  bool   \n",
            " 23  Insurance Duration_4.0  1200000 non-null  bool   \n",
            " 24  Insurance Duration_5.0  1200000 non-null  bool   \n",
            " 25  Insurance Duration_6.0  1200000 non-null  bool   \n",
            " 26  Insurance Duration_7.0  1200000 non-null  bool   \n",
            " 27  Insurance Duration_8.0  1200000 non-null  bool   \n",
            " 28  Insurance Duration_9.0  1200000 non-null  bool   \n",
            "dtypes: bool(10), float64(8), int64(1), object(10)\n",
            "memory usage: 185.4+ MB\n"
          ]
        }
      ]
    },
    {
      "cell_type": "code",
      "source": [
        "data = train.copy()\n",
        "test = test.copy()"
      ],
      "metadata": {
        "id": "ZtX-slKRaAQD"
      },
      "execution_count": 263,
      "outputs": []
    },
    {
      "cell_type": "markdown",
      "source": [
        "##### __Occupation__ column"
      ],
      "metadata": {
        "id": "duHpHaymaW2I"
      }
    },
    {
      "cell_type": "code",
      "source": [
        "print(data['Occupation'].isnull().sum())\n",
        "print(test['Occupation'].isnull().sum())"
      ],
      "metadata": {
        "colab": {
          "base_uri": "https://localhost:8080/"
        },
        "id": "QVAN8opgafQ3",
        "outputId": "1957bdb0-e290-4246-a021-4ac35878849e"
      },
      "execution_count": 264,
      "outputs": [
        {
          "output_type": "stream",
          "name": "stdout",
          "text": [
            "358075\n",
            "239125\n"
          ]
        }
      ]
    },
    {
      "cell_type": "code",
      "source": [
        "test['Occupation'].value_counts()"
      ],
      "metadata": {
        "colab": {
          "base_uri": "https://localhost:8080/",
          "height": 0
        },
        "id": "RO0Z2lb1aT6j",
        "outputId": "c5a1fb21-e7e4-4a67-da4c-a5d8cb433efd"
      },
      "execution_count": 265,
      "outputs": [
        {
          "output_type": "execute_result",
          "data": {
            "text/plain": [
              "Occupation\n",
              "Employed         188574\n",
              "Self-Employed    187991\n",
              "Unemployed       184310\n",
              "Name: count, dtype: int64"
            ],
            "text/html": [
              "<div>\n",
              "<style scoped>\n",
              "    .dataframe tbody tr th:only-of-type {\n",
              "        vertical-align: middle;\n",
              "    }\n",
              "\n",
              "    .dataframe tbody tr th {\n",
              "        vertical-align: top;\n",
              "    }\n",
              "\n",
              "    .dataframe thead th {\n",
              "        text-align: right;\n",
              "    }\n",
              "</style>\n",
              "<table border=\"1\" class=\"dataframe\">\n",
              "  <thead>\n",
              "    <tr style=\"text-align: right;\">\n",
              "      <th></th>\n",
              "      <th>count</th>\n",
              "    </tr>\n",
              "    <tr>\n",
              "      <th>Occupation</th>\n",
              "      <th></th>\n",
              "    </tr>\n",
              "  </thead>\n",
              "  <tbody>\n",
              "    <tr>\n",
              "      <th>Employed</th>\n",
              "      <td>188574</td>\n",
              "    </tr>\n",
              "    <tr>\n",
              "      <th>Self-Employed</th>\n",
              "      <td>187991</td>\n",
              "    </tr>\n",
              "    <tr>\n",
              "      <th>Unemployed</th>\n",
              "      <td>184310</td>\n",
              "    </tr>\n",
              "  </tbody>\n",
              "</table>\n",
              "</div><br><label><b>dtype:</b> int64</label>"
            ]
          },
          "metadata": {},
          "execution_count": 265
        }
      ]
    },
    {
      "cell_type": "code",
      "source": [
        "data['Occupation'].fillna(\"Bekar\",inplace=True)\n",
        "test['Occupation'].fillna(\"Bekar\",inplace=True)"
      ],
      "metadata": {
        "colab": {
          "base_uri": "https://localhost:8080/"
        },
        "collapsed": true,
        "id": "6ixEnMePael5",
        "outputId": "e689e956-a3b7-413c-b682-092a8bd79168"
      },
      "execution_count": 266,
      "outputs": [
        {
          "output_type": "stream",
          "name": "stderr",
          "text": [
            "<ipython-input-266-502019e18587>:1: FutureWarning: A value is trying to be set on a copy of a DataFrame or Series through chained assignment using an inplace method.\n",
            "The behavior will change in pandas 3.0. This inplace method will never work because the intermediate object on which we are setting values always behaves as a copy.\n",
            "\n",
            "For example, when doing 'df[col].method(value, inplace=True)', try using 'df.method({col: value}, inplace=True)' or df[col] = df[col].method(value) instead, to perform the operation inplace on the original object.\n",
            "\n",
            "\n",
            "  data['Occupation'].fillna(\"Bekar\",inplace=True)\n",
            "<ipython-input-266-502019e18587>:2: FutureWarning: A value is trying to be set on a copy of a DataFrame or Series through chained assignment using an inplace method.\n",
            "The behavior will change in pandas 3.0. This inplace method will never work because the intermediate object on which we are setting values always behaves as a copy.\n",
            "\n",
            "For example, when doing 'df[col].method(value, inplace=True)', try using 'df.method({col: value}, inplace=True)' or df[col] = df[col].method(value) instead, to perform the operation inplace on the original object.\n",
            "\n",
            "\n",
            "  test['Occupation'].fillna(\"Bekar\",inplace=True)\n"
          ]
        }
      ]
    },
    {
      "cell_type": "code",
      "source": [
        "data['Occupation'].value_counts()"
      ],
      "metadata": {
        "colab": {
          "base_uri": "https://localhost:8080/",
          "height": 0
        },
        "id": "llgqOxEOa2J_",
        "outputId": "51654397-3acf-4455-ae29-50b69d0d84ee"
      },
      "execution_count": 267,
      "outputs": [
        {
          "output_type": "execute_result",
          "data": {
            "text/plain": [
              "Occupation\n",
              "Bekar            358075\n",
              "Employed         282750\n",
              "Self-Employed    282645\n",
              "Unemployed       276530\n",
              "Name: count, dtype: int64"
            ],
            "text/html": [
              "<div>\n",
              "<style scoped>\n",
              "    .dataframe tbody tr th:only-of-type {\n",
              "        vertical-align: middle;\n",
              "    }\n",
              "\n",
              "    .dataframe tbody tr th {\n",
              "        vertical-align: top;\n",
              "    }\n",
              "\n",
              "    .dataframe thead th {\n",
              "        text-align: right;\n",
              "    }\n",
              "</style>\n",
              "<table border=\"1\" class=\"dataframe\">\n",
              "  <thead>\n",
              "    <tr style=\"text-align: right;\">\n",
              "      <th></th>\n",
              "      <th>count</th>\n",
              "    </tr>\n",
              "    <tr>\n",
              "      <th>Occupation</th>\n",
              "      <th></th>\n",
              "    </tr>\n",
              "  </thead>\n",
              "  <tbody>\n",
              "    <tr>\n",
              "      <th>Bekar</th>\n",
              "      <td>358075</td>\n",
              "    </tr>\n",
              "    <tr>\n",
              "      <th>Employed</th>\n",
              "      <td>282750</td>\n",
              "    </tr>\n",
              "    <tr>\n",
              "      <th>Self-Employed</th>\n",
              "      <td>282645</td>\n",
              "    </tr>\n",
              "    <tr>\n",
              "      <th>Unemployed</th>\n",
              "      <td>276530</td>\n",
              "    </tr>\n",
              "  </tbody>\n",
              "</table>\n",
              "</div><br><label><b>dtype:</b> int64</label>"
            ]
          },
          "metadata": {},
          "execution_count": 267
        }
      ]
    },
    {
      "cell_type": "code",
      "source": [
        "print(data['Occupation'].isnull().sum())\n",
        "print(test['Occupation'].isnull().sum())"
      ],
      "metadata": {
        "colab": {
          "base_uri": "https://localhost:8080/"
        },
        "id": "EI_94IKobNOt",
        "outputId": "d681daed-8225-4abd-eb12-c83dc7a96ad1"
      },
      "execution_count": 268,
      "outputs": [
        {
          "output_type": "stream",
          "name": "stdout",
          "text": [
            "0\n",
            "0\n"
          ]
        }
      ]
    },
    {
      "cell_type": "markdown",
      "source": [
        "##### __Marital Status__ column"
      ],
      "metadata": {
        "id": "Xg2JjDPRbHW6"
      }
    },
    {
      "cell_type": "code",
      "source": [
        "print(data['Marital Status'].isnull().sum())\n",
        "print(test['Marital Status'].isnull().sum())"
      ],
      "metadata": {
        "colab": {
          "base_uri": "https://localhost:8080/"
        },
        "id": "2BsontYta8Ik",
        "outputId": "566b4233-a5b5-4b0c-ba28-edd3b11520ef"
      },
      "execution_count": 269,
      "outputs": [
        {
          "output_type": "stream",
          "name": "stdout",
          "text": [
            "18529\n",
            "12336\n"
          ]
        }
      ]
    },
    {
      "cell_type": "code",
      "source": [
        "data['Marital Status'].value_counts()"
      ],
      "metadata": {
        "colab": {
          "base_uri": "https://localhost:8080/",
          "height": 0
        },
        "id": "vxnLkTX0bS2e",
        "outputId": "490f2562-0082-47be-9f46-c6397c97862a"
      },
      "execution_count": 270,
      "outputs": [
        {
          "output_type": "execute_result",
          "data": {
            "text/plain": [
              "Marital Status\n",
              "Single      395391\n",
              "Married     394316\n",
              "Divorced    391764\n",
              "Name: count, dtype: int64"
            ],
            "text/html": [
              "<div>\n",
              "<style scoped>\n",
              "    .dataframe tbody tr th:only-of-type {\n",
              "        vertical-align: middle;\n",
              "    }\n",
              "\n",
              "    .dataframe tbody tr th {\n",
              "        vertical-align: top;\n",
              "    }\n",
              "\n",
              "    .dataframe thead th {\n",
              "        text-align: right;\n",
              "    }\n",
              "</style>\n",
              "<table border=\"1\" class=\"dataframe\">\n",
              "  <thead>\n",
              "    <tr style=\"text-align: right;\">\n",
              "      <th></th>\n",
              "      <th>count</th>\n",
              "    </tr>\n",
              "    <tr>\n",
              "      <th>Marital Status</th>\n",
              "      <th></th>\n",
              "    </tr>\n",
              "  </thead>\n",
              "  <tbody>\n",
              "    <tr>\n",
              "      <th>Single</th>\n",
              "      <td>395391</td>\n",
              "    </tr>\n",
              "    <tr>\n",
              "      <th>Married</th>\n",
              "      <td>394316</td>\n",
              "    </tr>\n",
              "    <tr>\n",
              "      <th>Divorced</th>\n",
              "      <td>391764</td>\n",
              "    </tr>\n",
              "  </tbody>\n",
              "</table>\n",
              "</div><br><label><b>dtype:</b> int64</label>"
            ]
          },
          "metadata": {},
          "execution_count": 270
        }
      ]
    },
    {
      "cell_type": "code",
      "source": [
        "data['Marital Status'].fillna(\"Unknown_status\",inplace=True)\n",
        "test['Marital Status'].fillna(\"Unknown_status\",inplace=True)"
      ],
      "metadata": {
        "colab": {
          "base_uri": "https://localhost:8080/"
        },
        "collapsed": true,
        "id": "ggS4dDDEbkz0",
        "outputId": "12e6dc7d-d8df-4628-d2c9-51398d10f2db"
      },
      "execution_count": 271,
      "outputs": [
        {
          "output_type": "stream",
          "name": "stderr",
          "text": [
            "<ipython-input-271-cf995d21ac48>:1: FutureWarning: A value is trying to be set on a copy of a DataFrame or Series through chained assignment using an inplace method.\n",
            "The behavior will change in pandas 3.0. This inplace method will never work because the intermediate object on which we are setting values always behaves as a copy.\n",
            "\n",
            "For example, when doing 'df[col].method(value, inplace=True)', try using 'df.method({col: value}, inplace=True)' or df[col] = df[col].method(value) instead, to perform the operation inplace on the original object.\n",
            "\n",
            "\n",
            "  data['Marital Status'].fillna(\"Unknown_status\",inplace=True)\n",
            "<ipython-input-271-cf995d21ac48>:2: FutureWarning: A value is trying to be set on a copy of a DataFrame or Series through chained assignment using an inplace method.\n",
            "The behavior will change in pandas 3.0. This inplace method will never work because the intermediate object on which we are setting values always behaves as a copy.\n",
            "\n",
            "For example, when doing 'df[col].method(value, inplace=True)', try using 'df.method({col: value}, inplace=True)' or df[col] = df[col].method(value) instead, to perform the operation inplace on the original object.\n",
            "\n",
            "\n",
            "  test['Marital Status'].fillna(\"Unknown_status\",inplace=True)\n"
          ]
        }
      ]
    },
    {
      "cell_type": "code",
      "source": [
        "print(data['Marital Status'].isnull().sum())\n",
        "print(test['Marital Status'].isnull().sum())"
      ],
      "metadata": {
        "colab": {
          "base_uri": "https://localhost:8080/"
        },
        "id": "PbrfNdA3bz1l",
        "outputId": "6a7bc5ab-900d-47d0-a01a-cb49a0649d09"
      },
      "execution_count": 272,
      "outputs": [
        {
          "output_type": "stream",
          "name": "stdout",
          "text": [
            "0\n",
            "0\n"
          ]
        }
      ]
    },
    {
      "cell_type": "code",
      "source": [
        "data['Marital Status'].value_counts()"
      ],
      "metadata": {
        "colab": {
          "base_uri": "https://localhost:8080/",
          "height": 0
        },
        "id": "rwnZhQ8Nb4dZ",
        "outputId": "0d5e62e3-3e47-416f-be76-74ffaeac15a2"
      },
      "execution_count": 273,
      "outputs": [
        {
          "output_type": "execute_result",
          "data": {
            "text/plain": [
              "Marital Status\n",
              "Single            395391\n",
              "Married           394316\n",
              "Divorced          391764\n",
              "Unknown_status     18529\n",
              "Name: count, dtype: int64"
            ],
            "text/html": [
              "<div>\n",
              "<style scoped>\n",
              "    .dataframe tbody tr th:only-of-type {\n",
              "        vertical-align: middle;\n",
              "    }\n",
              "\n",
              "    .dataframe tbody tr th {\n",
              "        vertical-align: top;\n",
              "    }\n",
              "\n",
              "    .dataframe thead th {\n",
              "        text-align: right;\n",
              "    }\n",
              "</style>\n",
              "<table border=\"1\" class=\"dataframe\">\n",
              "  <thead>\n",
              "    <tr style=\"text-align: right;\">\n",
              "      <th></th>\n",
              "      <th>count</th>\n",
              "    </tr>\n",
              "    <tr>\n",
              "      <th>Marital Status</th>\n",
              "      <th></th>\n",
              "    </tr>\n",
              "  </thead>\n",
              "  <tbody>\n",
              "    <tr>\n",
              "      <th>Single</th>\n",
              "      <td>395391</td>\n",
              "    </tr>\n",
              "    <tr>\n",
              "      <th>Married</th>\n",
              "      <td>394316</td>\n",
              "    </tr>\n",
              "    <tr>\n",
              "      <th>Divorced</th>\n",
              "      <td>391764</td>\n",
              "    </tr>\n",
              "    <tr>\n",
              "      <th>Unknown_status</th>\n",
              "      <td>18529</td>\n",
              "    </tr>\n",
              "  </tbody>\n",
              "</table>\n",
              "</div><br><label><b>dtype:</b> int64</label>"
            ]
          },
          "metadata": {},
          "execution_count": 273
        }
      ]
    },
    {
      "cell_type": "markdown",
      "source": [
        "##### __Age__ column"
      ],
      "metadata": {
        "id": "H_l5FjGocDMW"
      }
    },
    {
      "cell_type": "code",
      "source": [
        "print(data['Age'].isnull().sum())\n",
        "print(test['Age'].isnull().sum())"
      ],
      "metadata": {
        "colab": {
          "base_uri": "https://localhost:8080/"
        },
        "id": "qe6keRi6ca9g",
        "outputId": "d6b58d62-72a3-4922-887b-a60ee7c6c443"
      },
      "execution_count": 274,
      "outputs": [
        {
          "output_type": "stream",
          "name": "stdout",
          "text": [
            "18705\n",
            "12489\n"
          ]
        }
      ]
    },
    {
      "cell_type": "code",
      "source": [
        "data['Age'].value_counts().plot(kind='kde')"
      ],
      "metadata": {
        "colab": {
          "base_uri": "https://localhost:8080/",
          "height": 0
        },
        "id": "hwXbOYghcBiD",
        "outputId": "4c255c29-a1a6-406c-ead9-e6dd5ba449de"
      },
      "execution_count": 275,
      "outputs": [
        {
          "output_type": "execute_result",
          "data": {
            "text/plain": [
              "<Axes: ylabel='Density'>"
            ]
          },
          "metadata": {},
          "execution_count": 275
        },
        {
          "output_type": "display_data",
          "data": {
            "text/plain": [
              "<Figure size 640x480 with 1 Axes>"
            ],
            "image/png": "[encoded data removed]"
          },
          "metadata": {}
        }
      ]
    },
    {
      "cell_type": "code",
      "source": [
        "data['Age'].value_counts()"
      ],
      "metadata": {
        "colab": {
          "base_uri": "https://localhost:8080/",
          "height": 0
        },
        "collapsed": true,
        "id": "VgeOojuOc2wN",
        "outputId": "5aa36b1f-f793-4132-cd1f-b7a8d655cca9"
      },
      "execution_count": 276,
      "outputs": [
        {
          "output_type": "execute_result",
          "data": {
            "text/plain": [
              "Age\n",
              "53.0    26354\n",
              "61.0    26218\n",
              "39.0    26042\n",
              "64.0    25990\n",
              "57.0    25971\n",
              "43.0    25966\n",
              "62.0    25849\n",
              "46.0    25756\n",
              "33.0    25728\n",
              "47.0    25709\n",
              "44.0    25642\n",
              "34.0    25615\n",
              "58.0    25544\n",
              "31.0    25500\n",
              "56.0    25450\n",
              "32.0    25435\n",
              "54.0    25370\n",
              "38.0    25346\n",
              "36.0    25340\n",
              "35.0    25323\n",
              "22.0    25309\n",
              "59.0    25173\n",
              "37.0    25163\n",
              "51.0    25162\n",
              "55.0    25132\n",
              "49.0    25107\n",
              "45.0    25101\n",
              "20.0    25055\n",
              "21.0    24987\n",
              "50.0    24943\n",
              "40.0    24877\n",
              "48.0    24834\n",
              "26.0    24805\n",
              "24.0    24690\n",
              "30.0    24683\n",
              "29.0    24673\n",
              "19.0    24641\n",
              "42.0    24626\n",
              "60.0    24593\n",
              "52.0    24592\n",
              "18.0    24488\n",
              "28.0    24455\n",
              "63.0    24283\n",
              "25.0    24221\n",
              "27.0    24212\n",
              "41.0    24117\n",
              "23.0    23225\n",
              "Name: count, dtype: int64"
            ],
            "text/html": [
              "<div>\n",
              "<style scoped>\n",
              "    .dataframe tbody tr th:only-of-type {\n",
              "        vertical-align: middle;\n",
              "    }\n",
              "\n",
              "    .dataframe tbody tr th {\n",
              "        vertical-align: top;\n",
              "    }\n",
              "\n",
              "    .dataframe thead th {\n",
              "        text-align: right;\n",
              "    }\n",
              "</style>\n",
              "<table border=\"1\" class=\"dataframe\">\n",
              "  <thead>\n",
              "    <tr style=\"text-align: right;\">\n",
              "      <th></th>\n",
              "      <th>count</th>\n",
              "    </tr>\n",
              "    <tr>\n",
              "      <th>Age</th>\n",
              "      <th></th>\n",
              "    </tr>\n",
              "  </thead>\n",
              "  <tbody>\n",
              "    <tr>\n",
              "      <th>53.0</th>\n",
              "      <td>26354</td>\n",
              "    </tr>\n",
              "    <tr>\n",
              "      <th>61.0</th>\n",
              "      <td>26218</td>\n",
              "    </tr>\n",
              "    <tr>\n",
              "      <th>39.0</th>\n",
              "      <td>26042</td>\n",
              "    </tr>\n",
              "    <tr>\n",
              "      <th>64.0</th>\n",
              "      <td>25990</td>\n",
              "    </tr>\n",
              "    <tr>\n",
              "      <th>57.0</th>\n",
              "      <td>25971</td>\n",
              "    </tr>\n",
              "    <tr>\n",
              "      <th>43.0</th>\n",
              "      <td>25966</td>\n",
              "    </tr>\n",
              "    <tr>\n",
              "      <th>62.0</th>\n",
              "      <td>25849</td>\n",
              "    </tr>\n",
              "    <tr>\n",
              "      <th>46.0</th>\n",
              "      <td>25756</td>\n",
              "    </tr>\n",
              "    <tr>\n",
              "      <th>33.0</th>\n",
              "      <td>25728</td>\n",
              "    </tr>\n",
              "    <tr>\n",
              "      <th>47.0</th>\n",
              "      <td>25709</td>\n",
              "    </tr>\n",
              "    <tr>\n",
              "      <th>44.0</th>\n",
              "      <td>25642</td>\n",
              "    </tr>\n",
              "    <tr>\n",
              "      <th>34.0</th>\n",
              "      <td>25615</td>\n",
              "    </tr>\n",
              "    <tr>\n",
              "      <th>58.0</th>\n",
              "      <td>25544</td>\n",
              "    </tr>\n",
              "    <tr>\n",
              "      <th>31.0</th>\n",
              "      <td>25500</td>\n",
              "    </tr>\n",
              "    <tr>\n",
              "      <th>56.0</th>\n",
              "      <td>25450</td>\n",
              "    </tr>\n",
              "    <tr>\n",
              "      <th>32.0</th>\n",
              "      <td>25435</td>\n",
              "    </tr>\n",
              "    <tr>\n",
              "      <th>54.0</th>\n",
              "      <td>25370</td>\n",
              "    </tr>\n",
              "    <tr>\n",
              "      <th>38.0</th>\n",
              "      <td>25346</td>\n",
              "    </tr>\n",
              "    <tr>\n",
              "      <th>36.0</th>\n",
              "      <td>25340</td>\n",
              "    </tr>\n",
              "    <tr>\n",
              "      <th>35.0</th>\n",
              "      <td>25323</td>\n",
              "    </tr>\n",
              "    <tr>\n",
              "      <th>22.0</th>\n",
              "      <td>25309</td>\n",
              "    </tr>\n",
              "    <tr>\n",
              "      <th>59.0</th>\n",
              "      <td>25173</td>\n",
              "    </tr>\n",
              "    <tr>\n",
              "      <th>37.0</th>\n",
              "      <td>25163</td>\n",
              "    </tr>\n",
              "    <tr>\n",
              "      <th>51.0</th>\n",
              "      <td>25162</td>\n",
              "    </tr>\n",
              "    <tr>\n",
              "      <th>55.0</th>\n",
              "      <td>25132</td>\n",
              "    </tr>\n",
              "    <tr>\n",
              "      <th>49.0</th>\n",
              "      <td>25107</td>\n",
              "    </tr>\n",
              "    <tr>\n",
              "      <th>45.0</th>\n",
              "      <td>25101</td>\n",
              "    </tr>\n",
              "    <tr>\n",
              "      <th>20.0</th>\n",
              "      <td>25055</td>\n",
              "    </tr>\n",
              "    <tr>\n",
              "      <th>21.0</th>\n",
              "      <td>24987</td>\n",
              "    </tr>\n",
              "    <tr>\n",
              "      <th>50.0</th>\n",
              "      <td>24943</td>\n",
              "    </tr>\n",
              "    <tr>\n",
              "      <th>40.0</th>\n",
              "      <td>24877</td>\n",
              "    </tr>\n",
              "    <tr>\n",
              "      <th>48.0</th>\n",
              "      <td>24834</td>\n",
              "    </tr>\n",
              "    <tr>\n",
              "      <th>26.0</th>\n",
              "      <td>24805</td>\n",
              "    </tr>\n",
              "    <tr>\n",
              "      <th>24.0</th>\n",
              "      <td>24690</td>\n",
              "    </tr>\n",
              "    <tr>\n",
              "      <th>30.0</th>\n",
              "      <td>24683</td>\n",
              "    </tr>\n",
              "    <tr>\n",
              "      <th>29.0</th>\n",
              "      <td>24673</td>\n",
              "    </tr>\n",
              "    <tr>\n",
              "      <th>19.0</th>\n",
              "      <td>24641</td>\n",
              "    </tr>\n",
              "    <tr>\n",
              "      <th>42.0</th>\n",
              "      <td>24626</td>\n",
              "    </tr>\n",
              "    <tr>\n",
              "      <th>60.0</th>\n",
              "      <td>24593</td>\n",
              "    </tr>\n",
              "    <tr>\n",
              "      <th>52.0</th>\n",
              "      <td>24592</td>\n",
              "    </tr>\n",
              "    <tr>\n",
              "      <th>18.0</th>\n",
              "      <td>24488</td>\n",
              "    </tr>\n",
              "    <tr>\n",
              "      <th>28.0</th>\n",
              "      <td>24455</td>\n",
              "    </tr>\n",
              "    <tr>\n",
              "      <th>63.0</th>\n",
              "      <td>24283</td>\n",
              "    </tr>\n",
              "    <tr>\n",
              "      <th>25.0</th>\n",
              "      <td>24221</td>\n",
              "    </tr>\n",
              "    <tr>\n",
              "      <th>27.0</th>\n",
              "      <td>24212</td>\n",
              "    </tr>\n",
              "    <tr>\n",
              "      <th>41.0</th>\n",
              "      <td>24117</td>\n",
              "    </tr>\n",
              "    <tr>\n",
              "      <th>23.0</th>\n",
              "      <td>23225</td>\n",
              "    </tr>\n",
              "  </tbody>\n",
              "</table>\n",
              "</div><br><label><b>dtype:</b> int64</label>"
            ]
          },
          "metadata": {},
          "execution_count": 276
        }
      ]
    },
    {
      "cell_type": "code",
      "source": [
        "data['Age'].mean()"
      ],
      "metadata": {
        "colab": {
          "base_uri": "https://localhost:8080/"
        },
        "id": "zEYMW9sccyUZ",
        "outputId": "cf0762c2-32f9-47ae-fbc7-14faafcfebf9"
      },
      "execution_count": 277,
      "outputs": [
        {
          "output_type": "execute_result",
          "data": {
            "text/plain": [
              "41.145563131986506"
            ]
          },
          "metadata": {},
          "execution_count": 277
        }
      ]
    },
    {
      "cell_type": "code",
      "source": [
        "data['Age'].fillna(data['Age'].mean(),inplace=True)\n",
        "test['Age'].fillna(test['Age'].mean(),inplace=True)"
      ],
      "metadata": {
        "colab": {
          "base_uri": "https://localhost:8080/"
        },
        "collapsed": true,
        "id": "z1yo2LYNcCu-",
        "outputId": "919ad0e1-4c19-40ae-fbba-e86456ed962e"
      },
      "execution_count": 278,
      "outputs": [
        {
          "output_type": "stream",
          "name": "stderr",
          "text": [
            "<ipython-input-278-8c3b15987e46>:1: FutureWarning: A value is trying to be set on a copy of a DataFrame or Series through chained assignment using an inplace method.\n",
            "The behavior will change in pandas 3.0. This inplace method will never work because the intermediate object on which we are setting values always behaves as a copy.\n",
            "\n",
            "For example, when doing 'df[col].method(value, inplace=True)', try using 'df.method({col: value}, inplace=True)' or df[col] = df[col].method(value) instead, to perform the operation inplace on the original object.\n",
            "\n",
            "\n",
            "  data['Age'].fillna(data['Age'].mean(),inplace=True)\n",
            "<ipython-input-278-8c3b15987e46>:2: FutureWarning: A value is trying to be set on a copy of a DataFrame or Series through chained assignment using an inplace method.\n",
            "The behavior will change in pandas 3.0. This inplace method will never work because the intermediate object on which we are setting values always behaves as a copy.\n",
            "\n",
            "For example, when doing 'df[col].method(value, inplace=True)', try using 'df.method({col: value}, inplace=True)' or df[col] = df[col].method(value) instead, to perform the operation inplace on the original object.\n",
            "\n",
            "\n",
            "  test['Age'].fillna(test['Age'].mean(),inplace=True)\n"
          ]
        }
      ]
    },
    {
      "cell_type": "code",
      "source": [
        "data['Age'].value_counts().plot(kind='kde')"
      ],
      "metadata": {
        "colab": {
          "base_uri": "https://localhost:8080/",
          "height": 0
        },
        "id": "8dcwa_ntcCri",
        "outputId": "f2d32460-4616-4d3f-947d-4c8a10bde495"
      },
      "execution_count": 279,
      "outputs": [
        {
          "output_type": "execute_result",
          "data": {
            "text/plain": [
              "<Axes: ylabel='Density'>"
            ]
          },
          "metadata": {},
          "execution_count": 279
        },
        {
          "output_type": "display_data",
          "data": {
            "text/plain": [
              "<Figure size 640x480 with 1 Axes>"
            ],
            "image/png": "[encoded data removed]"
          },
          "metadata": {}
        }
      ]
    },
    {
      "cell_type": "code",
      "source": [
        "data['Age'].mean()"
      ],
      "metadata": {
        "colab": {
          "base_uri": "https://localhost:8080/"
        },
        "id": "n4nDXb_FcCoi",
        "outputId": "c91a33f9-926b-4c41-c720-1366c4cf85c0"
      },
      "execution_count": 280,
      "outputs": [
        {
          "output_type": "execute_result",
          "data": {
            "text/plain": [
              "41.14556313198648"
            ]
          },
          "metadata": {},
          "execution_count": 280
        }
      ]
    },
    {
      "cell_type": "markdown",
      "source": [
        "##### __Annual Income__ column"
      ],
      "metadata": {
        "id": "EJZwPrVOdgr1"
      }
    },
    {
      "cell_type": "code",
      "source": [
        "print(data['Annual Income'].isnull().sum())\n",
        "print(test['Annual Income'].isnull().sum())"
      ],
      "metadata": {
        "colab": {
          "base_uri": "https://localhost:8080/"
        },
        "id": "r_HO0vJcdgWU",
        "outputId": "045f9473-f55c-46fd-db20-0971a9e53568"
      },
      "execution_count": 281,
      "outputs": [
        {
          "output_type": "stream",
          "name": "stdout",
          "text": [
            "44949\n",
            "29860\n"
          ]
        }
      ]
    },
    {
      "cell_type": "code",
      "source": [
        "data['Annual Income'].value_counts().plot(kind='box')"
      ],
      "metadata": {
        "colab": {
          "base_uri": "https://localhost:8080/",
          "height": 0
        },
        "id": "Og4vcOk7cCcB",
        "outputId": "d24cc797-116b-4036-8a63-3c0ff4333a60"
      },
      "execution_count": 282,
      "outputs": [
        {
          "output_type": "execute_result",
          "data": {
            "text/plain": [
              "<Axes: >"
            ]
          },
          "metadata": {},
          "execution_count": 282
        },
        {
          "output_type": "display_data",
          "data": {
            "text/plain": [
              "<Figure size 640x480 with 1 Axes>"
            ],
            "image/png": "[encoded data removed]"
          },
          "metadata": {}
        }
      ]
    },
    {
      "cell_type": "code",
      "source": [
        "data['Annual Income'].skew()"
      ],
      "metadata": {
        "colab": {
          "base_uri": "https://localhost:8080/"
        },
        "id": "UGLxPLoOeDdn",
        "outputId": "27e09c74-4659-4030-ad52-d0c81531891f"
      },
      "execution_count": 283,
      "outputs": [
        {
          "output_type": "execute_result",
          "data": {
            "text/plain": [
              "1.470357488204046"
            ]
          },
          "metadata": {},
          "execution_count": 283
        }
      ]
    },
    {
      "cell_type": "code",
      "source": [
        "plt.figure(figsize=(10, 6))\n",
        "sns.distplot(data['Annual Income'], kde=True)\n",
        "plt.title('Distribution of Annual Income')\n",
        "plt.xlabel('Annual Income')\n",
        "plt.ylabel('Density')\n",
        "plt.show()"
      ],
      "metadata": {
        "colab": {
          "base_uri": "https://localhost:8080/",
          "height": 0
        },
        "id": "AREZD0lfdcqM",
        "outputId": "deb66cb2-64e6-4e02-8f7c-e53cec88d66a"
      },
      "execution_count": 284,
      "outputs": [
        {
          "output_type": "stream",
          "name": "stderr",
          "text": [
            "<ipython-input-284-35edc52feb7a>:2: UserWarning: \n",
            "\n",
            "`distplot` is a deprecated function and will be removed in seaborn v0.14.0.\n",
            "\n",
            "Please adapt your code to use either `displot` (a figure-level function with\n",
            "similar flexibility) or `histplot` (an axes-level function for histograms).\n",
            "\n",
            "For a guide to updating your code to use the new functions, please see\n",
            "https://gist.github.com/mwaskom/de44147ed2974457ad6372750bbe5751\n",
            "\n",
            "  sns.distplot(data['Annual Income'], kde=True)\n"
          ]
        },
        {
          "output_type": "display_data",
          "data": {
            "text/plain": [
              "<Figure size 1000x600 with 1 Axes>"
            ],
            "image/png": "[encoded data removed]"
          },
          "metadata": {}
        }
      ]
    },
    {
      "cell_type": "code",
      "source": [
        "data['Annual Income'].fillna(data['Annual Income'].median(),inplace=True)\n",
        "test['Annual Income'].fillna(test['Annual Income'].median(),inplace=True)"
      ],
      "metadata": {
        "colab": {
          "base_uri": "https://localhost:8080/"
        },
        "collapsed": true,
        "id": "IMpHBCNfevWe",
        "outputId": "bf741803-ff38-4299-b004-377d77ed9d99"
      },
      "execution_count": 285,
      "outputs": [
        {
          "output_type": "stream",
          "name": "stderr",
          "text": [
            "<ipython-input-285-f58f2c5c58c2>:1: FutureWarning: A value is trying to be set on a copy of a DataFrame or Series through chained assignment using an inplace method.\n",
            "The behavior will change in pandas 3.0. This inplace method will never work because the intermediate object on which we are setting values always behaves as a copy.\n",
            "\n",
            "For example, when doing 'df[col].method(value, inplace=True)', try using 'df.method({col: value}, inplace=True)' or df[col] = df[col].method(value) instead, to perform the operation inplace on the original object.\n",
            "\n",
            "\n",
            "  data['Annual Income'].fillna(data['Annual Income'].median(),inplace=True)\n",
            "<ipython-input-285-f58f2c5c58c2>:2: FutureWarning: A value is trying to be set on a copy of a DataFrame or Series through chained assignment using an inplace method.\n",
            "The behavior will change in pandas 3.0. This inplace method will never work because the intermediate object on which we are setting values always behaves as a copy.\n",
            "\n",
            "For example, when doing 'df[col].method(value, inplace=True)', try using 'df.method({col: value}, inplace=True)' or df[col] = df[col].method(value) instead, to perform the operation inplace on the original object.\n",
            "\n",
            "\n",
            "  test['Annual Income'].fillna(test['Annual Income'].median(),inplace=True)\n"
          ]
        }
      ]
    },
    {
      "cell_type": "code",
      "source": [
        "data.info()"
      ],
      "metadata": {
        "colab": {
          "base_uri": "https://localhost:8080/"
        },
        "id": "JRQroqwZe1Dj",
        "outputId": "20f022dd-eea6-4a68-adc2-e353275a4fa1"
      },
      "execution_count": 286,
      "outputs": [
        {
          "output_type": "stream",
          "name": "stdout",
          "text": [
            "<class 'pandas.core.frame.DataFrame'>\n",
            "RangeIndex: 1200000 entries, 0 to 1199999\n",
            "Data columns (total 29 columns):\n",
            " #   Column                  Non-Null Count    Dtype  \n",
            "---  ------                  --------------    -----  \n",
            " 0   id                      1200000 non-null  int64  \n",
            " 1   Age                     1200000 non-null  float64\n",
            " 2   Gender                  1200000 non-null  object \n",
            " 3   Annual Income           1200000 non-null  float64\n",
            " 4   Marital Status          1200000 non-null  object \n",
            " 5   Number of Dependents    1090328 non-null  float64\n",
            " 6   Education Level         1200000 non-null  object \n",
            " 7   Occupation              1200000 non-null  object \n",
            " 8   Health Score            1200000 non-null  float64\n",
            " 9   Location                1200000 non-null  object \n",
            " 10  Policy Type             1200000 non-null  object \n",
            " 11  Previous Claims         1200000 non-null  float64\n",
            " 12  Vehicle Age             1200000 non-null  float64\n",
            " 13  Credit Score            1062118 non-null  float64\n",
            " 14  Policy Start Date       1200000 non-null  object \n",
            " 15  Smoking Status          1200000 non-null  object \n",
            " 16  Exercise Frequency      1200000 non-null  object \n",
            " 17  Property Type           1200000 non-null  object \n",
            " 18  Premium Amount          1200000 non-null  float64\n",
            " 19  Customer Feedback_Good  1200000 non-null  bool   \n",
            " 20  Customer Feedback_Poor  1200000 non-null  bool   \n",
            " 21  Insurance Duration_2.0  1200000 non-null  bool   \n",
            " 22  Insurance Duration_3.0  1200000 non-null  bool   \n",
            " 23  Insurance Duration_4.0  1200000 non-null  bool   \n",
            " 24  Insurance Duration_5.0  1200000 non-null  bool   \n",
            " 25  Insurance Duration_6.0  1200000 non-null  bool   \n",
            " 26  Insurance Duration_7.0  1200000 non-null  bool   \n",
            " 27  Insurance Duration_8.0  1200000 non-null  bool   \n",
            " 28  Insurance Duration_9.0  1200000 non-null  bool   \n",
            "dtypes: bool(10), float64(8), int64(1), object(10)\n",
            "memory usage: 185.4+ MB\n"
          ]
        }
      ]
    },
    {
      "cell_type": "markdown",
      "source": [
        "##### __Number of Dependents__ column"
      ],
      "metadata": {
        "id": "WSytJJZ3fAmR"
      }
    },
    {
      "cell_type": "code",
      "source": [
        "print(data['Number of Dependents'].isnull().sum())\n",
        "print(test['Number of Dependents'].isnull().sum())"
      ],
      "metadata": {
        "colab": {
          "base_uri": "https://localhost:8080/"
        },
        "id": "KtMlP4b5fMpk",
        "outputId": "567c1aa1-f4a8-4106-a893-f239c1928c32"
      },
      "execution_count": 287,
      "outputs": [
        {
          "output_type": "stream",
          "name": "stdout",
          "text": [
            "109672\n",
            "73130\n"
          ]
        }
      ]
    },
    {
      "cell_type": "code",
      "source": [
        "data['Number of Dependents'].value_counts()"
      ],
      "metadata": {
        "colab": {
          "base_uri": "https://localhost:8080/",
          "height": 272
        },
        "id": "ddwgaKFpe4wj",
        "outputId": "1f1c9aed-6437-4cd1-88d3-bb2343dea5ca"
      },
      "execution_count": 288,
      "outputs": [
        {
          "output_type": "execute_result",
          "data": {
            "text/plain": [
              "Number of Dependents\n",
              "3.0    221475\n",
              "4.0    220340\n",
              "0.0    218124\n",
              "2.0    215313\n",
              "1.0    215076\n",
              "Name: count, dtype: int64"
            ],
            "text/html": [
              "<div>\n",
              "<style scoped>\n",
              "    .dataframe tbody tr th:only-of-type {\n",
              "        vertical-align: middle;\n",
              "    }\n",
              "\n",
              "    .dataframe tbody tr th {\n",
              "        vertical-align: top;\n",
              "    }\n",
              "\n",
              "    .dataframe thead th {\n",
              "        text-align: right;\n",
              "    }\n",
              "</style>\n",
              "<table border=\"1\" class=\"dataframe\">\n",
              "  <thead>\n",
              "    <tr style=\"text-align: right;\">\n",
              "      <th></th>\n",
              "      <th>count</th>\n",
              "    </tr>\n",
              "    <tr>\n",
              "      <th>Number of Dependents</th>\n",
              "      <th></th>\n",
              "    </tr>\n",
              "  </thead>\n",
              "  <tbody>\n",
              "    <tr>\n",
              "      <th>3.0</th>\n",
              "      <td>221475</td>\n",
              "    </tr>\n",
              "    <tr>\n",
              "      <th>4.0</th>\n",
              "      <td>220340</td>\n",
              "    </tr>\n",
              "    <tr>\n",
              "      <th>0.0</th>\n",
              "      <td>218124</td>\n",
              "    </tr>\n",
              "    <tr>\n",
              "      <th>2.0</th>\n",
              "      <td>215313</td>\n",
              "    </tr>\n",
              "    <tr>\n",
              "      <th>1.0</th>\n",
              "      <td>215076</td>\n",
              "    </tr>\n",
              "  </tbody>\n",
              "</table>\n",
              "</div><br><label><b>dtype:</b> int64</label>"
            ]
          },
          "metadata": {},
          "execution_count": 288
        }
      ]
    },
    {
      "cell_type": "code",
      "source": [
        "data['Number of Dependents'].fillna(\"5.0\",inplace=True)\n",
        "test['Number of Dependents'].fillna(\"5.0\",inplace=True)"
      ],
      "metadata": {
        "colab": {
          "base_uri": "https://localhost:8080/"
        },
        "collapsed": true,
        "id": "QUePB5EbfIdk",
        "outputId": "d419ca62-b6c9-4825-946c-0486d6196271"
      },
      "execution_count": 289,
      "outputs": [
        {
          "output_type": "stream",
          "name": "stderr",
          "text": [
            "<ipython-input-289-fac6b91bd0fc>:1: FutureWarning: A value is trying to be set on a copy of a DataFrame or Series through chained assignment using an inplace method.\n",
            "The behavior will change in pandas 3.0. This inplace method will never work because the intermediate object on which we are setting values always behaves as a copy.\n",
            "\n",
            "For example, when doing 'df[col].method(value, inplace=True)', try using 'df.method({col: value}, inplace=True)' or df[col] = df[col].method(value) instead, to perform the operation inplace on the original object.\n",
            "\n",
            "\n",
            "  data['Number of Dependents'].fillna(\"5.0\",inplace=True)\n",
            "<ipython-input-289-fac6b91bd0fc>:1: FutureWarning: Setting an item of incompatible dtype is deprecated and will raise an error in a future version of pandas. Value '5.0' has dtype incompatible with float64, please explicitly cast to a compatible dtype first.\n",
            "  data['Number of Dependents'].fillna(\"5.0\",inplace=True)\n",
            "<ipython-input-289-fac6b91bd0fc>:2: FutureWarning: A value is trying to be set on a copy of a DataFrame or Series through chained assignment using an inplace method.\n",
            "The behavior will change in pandas 3.0. This inplace method will never work because the intermediate object on which we are setting values always behaves as a copy.\n",
            "\n",
            "For example, when doing 'df[col].method(value, inplace=True)', try using 'df.method({col: value}, inplace=True)' or df[col] = df[col].method(value) instead, to perform the operation inplace on the original object.\n",
            "\n",
            "\n",
            "  test['Number of Dependents'].fillna(\"5.0\",inplace=True)\n",
            "<ipython-input-289-fac6b91bd0fc>:2: FutureWarning: Setting an item of incompatible dtype is deprecated and will raise an error in a future version of pandas. Value '5.0' has dtype incompatible with float64, please explicitly cast to a compatible dtype first.\n",
            "  test['Number of Dependents'].fillna(\"5.0\",inplace=True)\n"
          ]
        }
      ]
    },
    {
      "cell_type": "code",
      "source": [
        "print(data['Number of Dependents'].isnull().sum())\n",
        "print(test['Number of Dependents'].isnull().sum())"
      ],
      "metadata": {
        "colab": {
          "base_uri": "https://localhost:8080/"
        },
        "id": "AnMCMa3afdS7",
        "outputId": "235b2ed9-9731-451f-b5ff-4cb62e49b188"
      },
      "execution_count": 290,
      "outputs": [
        {
          "output_type": "stream",
          "name": "stdout",
          "text": [
            "0\n",
            "0\n"
          ]
        }
      ]
    },
    {
      "cell_type": "code",
      "source": [
        "data['Number of Dependents'].value_counts()"
      ],
      "metadata": {
        "colab": {
          "base_uri": "https://localhost:8080/",
          "height": 303
        },
        "id": "2Ubd1WpofgKL",
        "outputId": "b9712318-dd41-4af1-a390-1698d4cfbace"
      },
      "execution_count": 291,
      "outputs": [
        {
          "output_type": "execute_result",
          "data": {
            "text/plain": [
              "Number of Dependents\n",
              "3.0    221475\n",
              "4.0    220340\n",
              "0.0    218124\n",
              "2.0    215313\n",
              "1.0    215076\n",
              "5.0    109672\n",
              "Name: count, dtype: int64"
            ],
            "text/html": [
              "<div>\n",
              "<style scoped>\n",
              "    .dataframe tbody tr th:only-of-type {\n",
              "        vertical-align: middle;\n",
              "    }\n",
              "\n",
              "    .dataframe tbody tr th {\n",
              "        vertical-align: top;\n",
              "    }\n",
              "\n",
              "    .dataframe thead th {\n",
              "        text-align: right;\n",
              "    }\n",
              "</style>\n",
              "<table border=\"1\" class=\"dataframe\">\n",
              "  <thead>\n",
              "    <tr style=\"text-align: right;\">\n",
              "      <th></th>\n",
              "      <th>count</th>\n",
              "    </tr>\n",
              "    <tr>\n",
              "      <th>Number of Dependents</th>\n",
              "      <th></th>\n",
              "    </tr>\n",
              "  </thead>\n",
              "  <tbody>\n",
              "    <tr>\n",
              "      <th>3.0</th>\n",
              "      <td>221475</td>\n",
              "    </tr>\n",
              "    <tr>\n",
              "      <th>4.0</th>\n",
              "      <td>220340</td>\n",
              "    </tr>\n",
              "    <tr>\n",
              "      <th>0.0</th>\n",
              "      <td>218124</td>\n",
              "    </tr>\n",
              "    <tr>\n",
              "      <th>2.0</th>\n",
              "      <td>215313</td>\n",
              "    </tr>\n",
              "    <tr>\n",
              "      <th>1.0</th>\n",
              "      <td>215076</td>\n",
              "    </tr>\n",
              "    <tr>\n",
              "      <th>5.0</th>\n",
              "      <td>109672</td>\n",
              "    </tr>\n",
              "  </tbody>\n",
              "</table>\n",
              "</div><br><label><b>dtype:</b> int64</label>"
            ]
          },
          "metadata": {},
          "execution_count": 291
        }
      ]
    },
    {
      "cell_type": "code",
      "source": [
        "# data = data['Number of Dependents'].get_dummies(data,columns='Number of Dependents',drop_first=True)\n",
        "# test = test['Number of Dependents'].get_dummies(test,columns='Number of Dependents',drop_first=True)"
      ],
      "metadata": {
        "id": "PR1IBb4AgtDk"
      },
      "execution_count": 292,
      "outputs": []
    },
    {
      "cell_type": "code",
      "source": [
        "data.info()"
      ],
      "metadata": {
        "colab": {
          "base_uri": "https://localhost:8080/"
        },
        "id": "ZaLvTjVmfjP_",
        "outputId": "a359519a-edf7-41f6-e048-0fc1c0a63ac9"
      },
      "execution_count": 293,
      "outputs": [
        {
          "output_type": "stream",
          "name": "stdout",
          "text": [
            "<class 'pandas.core.frame.DataFrame'>\n",
            "RangeIndex: 1200000 entries, 0 to 1199999\n",
            "Data columns (total 29 columns):\n",
            " #   Column                  Non-Null Count    Dtype  \n",
            "---  ------                  --------------    -----  \n",
            " 0   id                      1200000 non-null  int64  \n",
            " 1   Age                     1200000 non-null  float64\n",
            " 2   Gender                  1200000 non-null  object \n",
            " 3   Annual Income           1200000 non-null  float64\n",
            " 4   Marital Status          1200000 non-null  object \n",
            " 5   Number of Dependents    1200000 non-null  object \n",
            " 6   Education Level         1200000 non-null  object \n",
            " 7   Occupation              1200000 non-null  object \n",
            " 8   Health Score            1200000 non-null  float64\n",
            " 9   Location                1200000 non-null  object \n",
            " 10  Policy Type             1200000 non-null  object \n",
            " 11  Previous Claims         1200000 non-null  float64\n",
            " 12  Vehicle Age             1200000 non-null  float64\n",
            " 13  Credit Score            1062118 non-null  float64\n",
            " 14  Policy Start Date       1200000 non-null  object \n",
            " 15  Smoking Status          1200000 non-null  object \n",
            " 16  Exercise Frequency      1200000 non-null  object \n",
            " 17  Property Type           1200000 non-null  object \n",
            " 18  Premium Amount          1200000 non-null  float64\n",
            " 19  Customer Feedback_Good  1200000 non-null  bool   \n",
            " 20  Customer Feedback_Poor  1200000 non-null  bool   \n",
            " 21  Insurance Duration_2.0  1200000 non-null  bool   \n",
            " 22  Insurance Duration_3.0  1200000 non-null  bool   \n",
            " 23  Insurance Duration_4.0  1200000 non-null  bool   \n",
            " 24  Insurance Duration_5.0  1200000 non-null  bool   \n",
            " 25  Insurance Duration_6.0  1200000 non-null  bool   \n",
            " 26  Insurance Duration_7.0  1200000 non-null  bool   \n",
            " 27  Insurance Duration_8.0  1200000 non-null  bool   \n",
            " 28  Insurance Duration_9.0  1200000 non-null  bool   \n",
            "dtypes: bool(10), float64(7), int64(1), object(11)\n",
            "memory usage: 185.4+ MB\n"
          ]
        }
      ]
    },
    {
      "cell_type": "markdown",
      "source": [
        "##### __Credit Score__"
      ],
      "metadata": {
        "id": "5zXqdbBnfx66"
      }
    },
    {
      "cell_type": "code",
      "source": [
        "print(data['Credit Score'].isnull().sum())\n",
        "print(test['Credit Score'].isnull().sum())"
      ],
      "metadata": {
        "colab": {
          "base_uri": "https://localhost:8080/"
        },
        "id": "ZJ625spYf5QZ",
        "outputId": "753f2cd0-7745-4815-e642-f786c86ec35d"
      },
      "execution_count": 294,
      "outputs": [
        {
          "output_type": "stream",
          "name": "stdout",
          "text": [
            "137882\n",
            "91451\n"
          ]
        }
      ]
    },
    {
      "cell_type": "code",
      "source": [
        "data['Credit Score'].value_counts().plot(kind='box')"
      ],
      "metadata": {
        "colab": {
          "base_uri": "https://localhost:8080/",
          "height": 447
        },
        "id": "nOKtH7CpflK1",
        "outputId": "c1ab4e0e-5ab8-4f1c-9314-e7a5b90ef109"
      },
      "execution_count": 295,
      "outputs": [
        {
          "output_type": "execute_result",
          "data": {
            "text/plain": [
              "<Axes: >"
            ]
          },
          "metadata": {},
          "execution_count": 295
        },
        {
          "output_type": "display_data",
          "data": {
            "text/plain": [
              "<Figure size 640x480 with 1 Axes>"
            ],
            "image/png": "[encoded data removed]"
          },
          "metadata": {}
        }
      ]
    },
    {
      "cell_type": "markdown",
      "source": [
        "**Tik tak kora lagbe**"
      ],
      "metadata": {
        "id": "NOWcuuaggIv0"
      }
    },
    {
      "cell_type": "code",
      "source": [
        "data['Credit Score'].fillna(data['Credit Score'].median(),inplace=True)\n",
        "test['Credit Score'].fillna(test['Credit Score'].median(),inplace=True)"
      ],
      "metadata": {
        "colab": {
          "base_uri": "https://localhost:8080/"
        },
        "collapsed": true,
        "id": "J2D_gse7fu4k",
        "outputId": "ba8e5661-0637-4d66-add6-225a38a9fb0e"
      },
      "execution_count": 296,
      "outputs": [
        {
          "output_type": "stream",
          "name": "stderr",
          "text": [
            "<ipython-input-296-8576eab87eb5>:1: FutureWarning: A value is trying to be set on a copy of a DataFrame or Series through chained assignment using an inplace method.\n",
            "The behavior will change in pandas 3.0. This inplace method will never work because the intermediate object on which we are setting values always behaves as a copy.\n",
            "\n",
            "For example, when doing 'df[col].method(value, inplace=True)', try using 'df.method({col: value}, inplace=True)' or df[col] = df[col].method(value) instead, to perform the operation inplace on the original object.\n",
            "\n",
            "\n",
            "  data['Credit Score'].fillna(data['Credit Score'].median(),inplace=True)\n",
            "<ipython-input-296-8576eab87eb5>:2: FutureWarning: A value is trying to be set on a copy of a DataFrame or Series through chained assignment using an inplace method.\n",
            "The behavior will change in pandas 3.0. This inplace method will never work because the intermediate object on which we are setting values always behaves as a copy.\n",
            "\n",
            "For example, when doing 'df[col].method(value, inplace=True)', try using 'df.method({col: value}, inplace=True)' or df[col] = df[col].method(value) instead, to perform the operation inplace on the original object.\n",
            "\n",
            "\n",
            "  test['Credit Score'].fillna(test['Credit Score'].median(),inplace=True)\n"
          ]
        }
      ]
    },
    {
      "cell_type": "code",
      "source": [
        "data.info()"
      ],
      "metadata": {
        "colab": {
          "base_uri": "https://localhost:8080/"
        },
        "id": "_a8b8k0QgStF",
        "outputId": "e9e189a9-cb0b-42ef-dae9-67845d92f493"
      },
      "execution_count": 297,
      "outputs": [
        {
          "output_type": "stream",
          "name": "stdout",
          "text": [
            "<class 'pandas.core.frame.DataFrame'>\n",
            "RangeIndex: 1200000 entries, 0 to 1199999\n",
            "Data columns (total 29 columns):\n",
            " #   Column                  Non-Null Count    Dtype  \n",
            "---  ------                  --------------    -----  \n",
            " 0   id                      1200000 non-null  int64  \n",
            " 1   Age                     1200000 non-null  float64\n",
            " 2   Gender                  1200000 non-null  object \n",
            " 3   Annual Income           1200000 non-null  float64\n",
            " 4   Marital Status          1200000 non-null  object \n",
            " 5   Number of Dependents    1200000 non-null  object \n",
            " 6   Education Level         1200000 non-null  object \n",
            " 7   Occupation              1200000 non-null  object \n",
            " 8   Health Score            1200000 non-null  float64\n",
            " 9   Location                1200000 non-null  object \n",
            " 10  Policy Type             1200000 non-null  object \n",
            " 11  Previous Claims         1200000 non-null  float64\n",
            " 12  Vehicle Age             1200000 non-null  float64\n",
            " 13  Credit Score            1200000 non-null  float64\n",
            " 14  Policy Start Date       1200000 non-null  object \n",
            " 15  Smoking Status          1200000 non-null  object \n",
            " 16  Exercise Frequency      1200000 non-null  object \n",
            " 17  Property Type           1200000 non-null  object \n",
            " 18  Premium Amount          1200000 non-null  float64\n",
            " 19  Customer Feedback_Good  1200000 non-null  bool   \n",
            " 20  Customer Feedback_Poor  1200000 non-null  bool   \n",
            " 21  Insurance Duration_2.0  1200000 non-null  bool   \n",
            " 22  Insurance Duration_3.0  1200000 non-null  bool   \n",
            " 23  Insurance Duration_4.0  1200000 non-null  bool   \n",
            " 24  Insurance Duration_5.0  1200000 non-null  bool   \n",
            " 25  Insurance Duration_6.0  1200000 non-null  bool   \n",
            " 26  Insurance Duration_7.0  1200000 non-null  bool   \n",
            " 27  Insurance Duration_8.0  1200000 non-null  bool   \n",
            " 28  Insurance Duration_9.0  1200000 non-null  bool   \n",
            "dtypes: bool(10), float64(7), int64(1), object(11)\n",
            "memory usage: 185.4+ MB\n"
          ]
        }
      ]
    },
    {
      "cell_type": "code",
      "source": [
        "data.isnull().sum().sum()"
      ],
      "metadata": {
        "colab": {
          "base_uri": "https://localhost:8080/"
        },
        "id": "IWFQBuQJgW3g",
        "outputId": "59747b63-8b85-4620-ce50-40b0ff8dfd0d"
      },
      "execution_count": 298,
      "outputs": [
        {
          "output_type": "execute_result",
          "data": {
            "text/plain": [
              "0"
            ]
          },
          "metadata": {},
          "execution_count": 298
        }
      ]
    },
    {
      "cell_type": "code",
      "source": [
        "data.shape,test.shape"
      ],
      "metadata": {
        "colab": {
          "base_uri": "https://localhost:8080/"
        },
        "id": "TakvxmurhvUx",
        "outputId": "b816ff42-2925-4453-c5cd-6fd92ed2b4e8"
      },
      "execution_count": 299,
      "outputs": [
        {
          "output_type": "execute_result",
          "data": {
            "text/plain": [
              "((1200000, 29), (800000, 28))"
            ]
          },
          "metadata": {},
          "execution_count": 299
        }
      ]
    },
    {
      "cell_type": "code",
      "source": [
        "objectType"
      ],
      "metadata": {
        "colab": {
          "base_uri": "https://localhost:8080/"
        },
        "id": "yMvYsHrWV81v",
        "outputId": "0a9a9580-c66f-4e19-b390-c666505bb84c"
      },
      "execution_count": 300,
      "outputs": [
        {
          "output_type": "execute_result",
          "data": {
            "text/plain": [
              "['Gender',\n",
              " 'Marital Status',\n",
              " 'Education Level',\n",
              " 'Occupation',\n",
              " 'Location',\n",
              " 'Policy Type',\n",
              " 'Policy Start Date',\n",
              " 'Smoking Status',\n",
              " 'Exercise Frequency',\n",
              " 'Property Type']"
            ]
          },
          "metadata": {},
          "execution_count": 300
        }
      ]
    },
    {
      "cell_type": "code",
      "source": [
        "data = pd.get_dummies(data, columns=['Gender'], drop_first=True)\n",
        "test = pd.get_dummies(test, columns=['Gender'], drop_first=True)"
      ],
      "metadata": {
        "id": "hQC0rZAKWJWi"
      },
      "execution_count": 301,
      "outputs": []
    },
    {
      "cell_type": "code",
      "source": [
        "data = pd.get_dummies(data, columns=['Marital Status'], drop_first=True)\n",
        "test = pd.get_dummies(test, columns=['Marital Status'], drop_first=True)"
      ],
      "metadata": {
        "id": "wTIxckw4XOBP"
      },
      "execution_count": 302,
      "outputs": []
    },
    {
      "cell_type": "code",
      "source": [
        "data = pd.get_dummies(data, columns=['Education Level'], drop_first=True)\n",
        "test = pd.get_dummies(test, columns=['Education Level'], drop_first=True)"
      ],
      "metadata": {
        "id": "u1MDYthwXQmD"
      },
      "execution_count": 303,
      "outputs": []
    },
    {
      "cell_type": "code",
      "source": [
        "data = pd.get_dummies(data, columns=['Occupation'], drop_first=True)\n",
        "test = pd.get_dummies(test, columns=['Occupation'], drop_first=True)"
      ],
      "metadata": {
        "id": "LQ8Rszp1XSgG"
      },
      "execution_count": 304,
      "outputs": []
    },
    {
      "cell_type": "code",
      "source": [
        "data = pd.get_dummies(data, columns=['Location'], drop_first=True)\n",
        "test = pd.get_dummies(test, columns=['Location'], drop_first=True)"
      ],
      "metadata": {
        "id": "AQNmy-XoXSGN"
      },
      "execution_count": 305,
      "outputs": []
    },
    {
      "cell_type": "code",
      "source": [
        "data = pd.get_dummies(data, columns=['Policy Type'], drop_first=True)\n",
        "test = pd.get_dummies(test, columns=['Policy Type'], drop_first=True)"
      ],
      "metadata": {
        "id": "XfHVUeRGXRvN"
      },
      "execution_count": 306,
      "outputs": []
    },
    {
      "cell_type": "code",
      "source": [
        "data.drop(columns=['Policy Start Date'],inplace=True)\n",
        "test.drop(columns=['Policy Start Date'],inplace=True)"
      ],
      "metadata": {
        "id": "SlN9bo9Jbqg9"
      },
      "execution_count": 307,
      "outputs": []
    },
    {
      "cell_type": "code",
      "source": [
        "# data = pd.get_dummies(data, columns=['Policy Start Date'], drop_first=True)\n",
        "# test = pd.get_dummies(test, columns=['Policy Start Date'], drop_first=True)"
      ],
      "metadata": {
        "id": "vo2EYIfHXRSG"
      },
      "execution_count": 308,
      "outputs": []
    },
    {
      "cell_type": "code",
      "source": [
        "data.shape,test.shape"
      ],
      "metadata": {
        "colab": {
          "base_uri": "https://localhost:8080/"
        },
        "id": "sCMngHXgWUU_",
        "outputId": "5a8d2441-254e-435a-f0ff-5479e1a8886e"
      },
      "execution_count": 309,
      "outputs": [
        {
          "output_type": "execute_result",
          "data": {
            "text/plain": [
              "((1200000, 36), (800000, 35))"
            ]
          },
          "metadata": {},
          "execution_count": 309
        }
      ]
    },
    {
      "cell_type": "code",
      "source": [
        "data = pd.get_dummies(data, columns=['Smoking Status'], drop_first=True)\n",
        "test = pd.get_dummies(test, columns=['Smoking Status'], drop_first=True)"
      ],
      "metadata": {
        "id": "S_0QwbwCX32J"
      },
      "execution_count": 310,
      "outputs": []
    },
    {
      "cell_type": "code",
      "source": [
        "data = pd.get_dummies(data, columns=['Exercise Frequency'], drop_first=True)\n",
        "test = pd.get_dummies(test, columns=['Exercise Frequency'], drop_first=True)"
      ],
      "metadata": {
        "id": "99OZxGGpYKRf"
      },
      "execution_count": 311,
      "outputs": []
    },
    {
      "cell_type": "code",
      "source": [
        "data = pd.get_dummies(data, columns=['Property Type'], drop_first=True)\n",
        "test = pd.get_dummies(test, columns=['Property Type'], drop_first=True)"
      ],
      "metadata": {
        "id": "rQn-h5NjYJ0l"
      },
      "execution_count": 312,
      "outputs": []
    },
    {
      "cell_type": "code",
      "source": [
        "data.shape,test.shape"
      ],
      "metadata": {
        "colab": {
          "base_uri": "https://localhost:8080/"
        },
        "id": "EukxHiuacOsj",
        "outputId": "3dda23f8-1fd4-47d5-c1d6-33cf9e31d9e2"
      },
      "execution_count": 313,
      "outputs": [
        {
          "output_type": "execute_result",
          "data": {
            "text/plain": [
              "((1200000, 39), (800000, 38))"
            ]
          },
          "metadata": {},
          "execution_count": 313
        }
      ]
    },
    {
      "cell_type": "code",
      "source": [
        "# Replace True with 1 and False with 0 in both data and test DataFrames\n",
        "for col in data.columns:\n",
        "    if data[col].dtype == 'bool':\n",
        "        data[col] = data[col].astype(int)\n",
        "\n",
        "for col in test.columns:\n",
        "    if test[col].dtype == 'bool':\n",
        "        test[col] = test[col].astype(int)"
      ],
      "metadata": {
        "id": "P2SH_1R7cZN_"
      },
      "execution_count": 314,
      "outputs": []
    },
    {
      "cell_type": "markdown",
      "source": [
        "#Train test split"
      ],
      "metadata": {
        "id": "CyYLuuuGgHzs"
      }
    },
    {
      "cell_type": "code",
      "source": [
        "from sklearn.model_selection import train_test_split\n",
        "from sklearn.preprocessing import OneHotEncoder, StandardScaler\n",
        "from sklearn.compose import ColumnTransformer\n",
        "from sklearn.pipeline import Pipeline"
      ],
      "metadata": {
        "id": "7O02X9MbgRyB"
      },
      "execution_count": 315,
      "outputs": []
    },
    {
      "cell_type": "code",
      "source": [
        "X = data.drop('Premium Amount',axis=1)\n",
        "y = data['Premium Amount']"
      ],
      "metadata": {
        "id": "zVr5X13Gh0Hq"
      },
      "execution_count": 316,
      "outputs": []
    },
    {
      "cell_type": "code",
      "source": [
        "X.shape,y.shape"
      ],
      "metadata": {
        "colab": {
          "base_uri": "https://localhost:8080/"
        },
        "id": "_dcKLzlecSyQ",
        "outputId": "d8f1c328-d167-4233-d907-63bda14d189b"
      },
      "execution_count": 317,
      "outputs": [
        {
          "output_type": "execute_result",
          "data": {
            "text/plain": [
              "((1200000, 38), (1200000,))"
            ]
          },
          "metadata": {},
          "execution_count": 317
        }
      ]
    },
    {
      "cell_type": "code",
      "source": [
        "x_train,x_test,y_train,y_test = train_test_split(X,y,test_size=0.2,random_state=42)"
      ],
      "metadata": {
        "id": "zBCnCnlHiAEx"
      },
      "execution_count": 318,
      "outputs": []
    },
    {
      "cell_type": "code",
      "source": [
        "sc = StandardScaler()\n",
        "sc.fit(x_train)\n",
        "x_train = sc.transform(x_train)\n",
        "x_test = sc.transform(x_test)"
      ],
      "metadata": {
        "id": "M799VjUSiJnz"
      },
      "execution_count": 319,
      "outputs": []
    },
    {
      "cell_type": "code",
      "source": [
        "x_train"
      ],
      "metadata": {
        "id": "oIdZlbJsiQap",
        "colab": {
          "base_uri": "https://localhost:8080/"
        },
        "outputId": "a29829a9-b0ca-4613-e6e4-d68981a9d752"
      },
      "execution_count": 320,
      "outputs": [
        {
          "output_type": "execute_result",
          "data": {
            "text/plain": [
              "array([[-0.5645078 ,  0.28641617,  1.8625512 , ..., -0.58588589,\n",
              "        -0.70676707,  1.41281266],\n",
              "       [ 0.42881446,  0.73321925, -0.8581168 , ..., -0.58588589,\n",
              "         1.41489332, -0.70780793],\n",
              "       [-0.47326536,  0.50981771,  0.28150583, ..., -0.58588589,\n",
              "         1.41489332, -0.70780793],\n",
              "       ...,\n",
              "       [-1.35076237,  0.13748182,  1.67749455, ..., -0.58588589,\n",
              "         1.41489332, -0.70780793],\n",
              "       [ 0.20560934,  0.58428489, -0.83825768, ..., -0.58588589,\n",
              "         1.41489332, -0.70780793],\n",
              "       [-1.37955055,  1.18002232,  3.14441321, ..., -0.58588589,\n",
              "        -0.70676707, -0.70780793]])"
            ]
          },
          "metadata": {},
          "execution_count": 320
        }
      ]
    },
    {
      "cell_type": "code",
      "source": [
        "from xgboost import XGBRegressor\n",
        "from sklearn.metrics import r2_score\n",
        "from sklearn.metrics import root_mean_squared_log_error as loss"
      ],
      "metadata": {
        "id": "dUPZFwBtgE8E"
      },
      "execution_count": 321,
      "outputs": []
    },
    {
      "cell_type": "code",
      "source": [
        "xgb = XGBRegressor()\n",
        "xgb.fit(x_train,y_train)\n",
        "y_pred = xgb.predict(x_test)\n",
        "print(r2_score(y_test,y_pred))\n",
        "print(loss(y_test,y_pred))"
      ],
      "metadata": {
        "colab": {
          "base_uri": "https://localhost:8080/"
        },
        "id": "ZtYpgiVWgQJK",
        "outputId": "58f92112-cf85-4d5c-ca44-4bc57aa9e25c"
      },
      "execution_count": 322,
      "outputs": [
        {
          "output_type": "stream",
          "name": "stdout",
          "text": [
            "0.03177957908885698\n",
            "1.151633200434971\n"
          ]
        }
      ]
    },
    {
      "cell_type": "code",
      "source": [
        "import xgboost as xgb\n",
        "from sklearn.model_selection import GridSearchCV\n",
        "\n",
        "# Define the parameter grid to search\n",
        "param_grid = {\n",
        "    'n_estimators': [100, 200, 300],  # Example values, adjust as needed\n",
        "    'learning_rate': [0.01, 0.1, 0.2],  # Example values, adjust as needed\n",
        "    'max_depth': [3, 5, 7],  # Example values, adjust as needed\n",
        "    # Add other hyperparameters you want to tune\n",
        "}\n",
        "\n",
        "# Initialize XGBRegressor\n",
        "xgb_model = xgb.XGBRegressor(random_state=42) # Set random_state for reproducibility\n",
        "\n",
        "# Initialize GridSearchCV\n",
        "grid_search = GridSearchCV(\n",
        "    estimator=xgb_model,\n",
        "    param_grid=param_grid,\n",
        "    scoring='neg_root_mean_squared_log_error', # Use appropriate scoring metric\n",
        "    cv=5, # Number of cross-validation folds\n",
        "    n_jobs=-1,  # Use all available cores for parallel processing\n",
        "    verbose=2 # More verbose output\n",
        ")\n",
        "\n",
        "# Fit the grid search to the data\n",
        "grid_search.fit(x_train, y_train)\n",
        "\n",
        "# Get the best hyperparameters and model\n",
        "best_params = grid_search.best_params_\n",
        "best_model = grid_search.best_estimator_\n",
        "\n",
        "print(\"Best Hyperparameters:\", best_params)\n",
        "\n",
        "# Evaluate the best model\n",
        "y_pred = best_model.predict(x_test)\n",
        "print(f\"R-squared: {r2_score(y_test, y_pred)}\")\n",
        "print(f\"RMSLE: {loss(y_test,y_pred)}\")"
      ],
      "metadata": {
        "colab": {
          "base_uri": "https://localhost:8080/"
        },
        "id": "yh0G0D7rgURR",
        "outputId": "8722a61e-c71d-41cb-dbcb-bdfc99331c5c"
      },
      "execution_count": 323,
      "outputs": [
        {
          "output_type": "stream",
          "name": "stdout",
          "text": [
            "Fitting 5 folds for each of 27 candidates, totalling 135 fits\n"
          ]
        },
        {
          "output_type": "stream",
          "name": "stderr",
          "text": [
            "/usr/local/lib/python3.10/dist-packages/sklearn/model_selection/_search.py:1103: UserWarning: One or more of the test scores are non-finite: [-1.16896347 -1.16627839 -1.16461749 -1.16289148 -1.15961752 -1.15759715\n",
            " -1.15774468 -1.1537617  -1.15230954 -1.15887986 -1.15658956 -1.15542734\n",
            " -1.15275739 -1.15138338 -1.15058192 -1.15018191 -1.14946643 -1.14926796\n",
            " -1.15628051 -1.15452918 -1.15361326 -1.15115263 -1.15048195         nan\n",
            " -1.14953388         nan         nan]\n",
            "  warnings.warn(\n"
          ]
        },
        {
          "output_type": "stream",
          "name": "stdout",
          "text": [
            "Best Hyperparameters: {'learning_rate': 0.1, 'max_depth': 7, 'n_estimators': 300}\n",
            "R-squared: 0.03232140969761055\n",
            "RMSLE: 1.1511116432078419\n"
          ]
        }
      ]
    },
    {
      "cell_type": "code",
      "source": [
        "test.head()"
      ],
      "metadata": {
        "colab": {
          "base_uri": "https://localhost:8080/",
          "height": 273
        },
        "id": "xFupfKxxtQK6",
        "outputId": "d21c8778-4191-440f-ec76-50b0dfc39eb2"
      },
      "execution_count": 325,
      "outputs": [
        {
          "output_type": "execute_result",
          "data": {
            "text/plain": [
              "        id   Age  Annual Income Number of Dependents  Health Score  \\\n",
              "0  1200000  28.0         2310.0                  4.0      7.657981   \n",
              "1  1200001  31.0       126031.0                  2.0     13.381379   \n",
              "2  1200002  47.0        17092.0                  0.0     24.354527   \n",
              "3  1200003  28.0        30424.0                  3.0      5.136225   \n",
              "4  1200004  24.0        10863.0                  2.0     11.844155   \n",
              "\n",
              "   Previous Claims  Vehicle Age  Credit Score  Customer Feedback_Good  \\\n",
              "0              0.0         19.0         595.0                       0   \n",
              "1              0.0         14.0         372.0                       1   \n",
              "2              0.0         16.0         819.0                       0   \n",
              "3              1.0          3.0         770.0                       0   \n",
              "4              0.0         14.0         755.0                       0   \n",
              "\n",
              "   Customer Feedback_Poor  ...  Location_Suburban  Location_Urban  \\\n",
              "0                       1  ...                  0               0   \n",
              "1                       0  ...                  1               0   \n",
              "2                       0  ...                  0               1   \n",
              "3                       1  ...                  1               0   \n",
              "4                       0  ...                  1               0   \n",
              "\n",
              "   Policy Type_Comprehensive  Policy Type_Premium  Smoking Status_Yes  \\\n",
              "0                          0                    0                   1   \n",
              "1                          0                    1                   1   \n",
              "2                          1                    0                   1   \n",
              "3                          1                    0                   1   \n",
              "4                          0                    1                   0   \n",
              "\n",
              "   Exercise Frequency_Monthly  Exercise Frequency_Rarely  \\\n",
              "0                           0                          0   \n",
              "1                           0                          1   \n",
              "2                           1                          0   \n",
              "3                           0                          0   \n",
              "4                           0                          0   \n",
              "\n",
              "   Exercise Frequency_Weekly  Property Type_Condo  Property Type_House  \n",
              "0                          1                    0                    1  \n",
              "1                          0                    0                    0  \n",
              "2                          0                    1                    0  \n",
              "3                          0                    0                    1  \n",
              "4                          1                    0                    1  \n",
              "\n",
              "[5 rows x 38 columns]"
            ],
            "text/html": [
              "\n",
              "  <div id=\"df-bd1910e4-c412-486b-b355-ba8efb083a86\" class=\"colab-df-container\">\n",
              "    <div>\n",
              "<style scoped>\n",
              "    .dataframe tbody tr th:only-of-type {\n",
              "        vertical-align: middle;\n",
              "    }\n",
              "\n",
              "    .dataframe tbody tr th {\n",
              "        vertical-align: top;\n",
              "    }\n",
              "\n",
              "    .dataframe thead th {\n",
              "        text-align: right;\n",
              "    }\n",
              "</style>\n",
              "<table border=\"1\" class=\"dataframe\">\n",
              "  <thead>\n",
              "    <tr style=\"text-align: right;\">\n",
              "      <th></th>\n",
              "      <th>id</th>\n",
              "      <th>Age</th>\n",
              "      <th>Annual Income</th>\n",
              "      <th>Number of Dependents</th>\n",
              "      <th>Health Score</th>\n",
              "      <th>Previous Claims</th>\n",
              "      <th>Vehicle Age</th>\n",
              "      <th>Credit Score</th>\n",
              "      <th>Customer Feedback_Good</th>\n",
              "      <th>Customer Feedback_Poor</th>\n",
              "      <th>...</th>\n",
              "      <th>Location_Suburban</th>\n",
              "      <th>Location_Urban</th>\n",
              "      <th>Policy Type_Comprehensive</th>\n",
              "      <th>Policy Type_Premium</th>\n",
              "      <th>Smoking Status_Yes</th>\n",
              "      <th>Exercise Frequency_Monthly</th>\n",
              "      <th>Exercise Frequency_Rarely</th>\n",
              "      <th>Exercise Frequency_Weekly</th>\n",
              "      <th>Property Type_Condo</th>\n",
              "      <th>Property Type_House</th>\n",
              "    </tr>\n",
              "  </thead>\n",
              "  <tbody>\n",
              "    <tr>\n",
              "      <th>0</th>\n",
              "      <td>1200000</td>\n",
              "      <td>28.0</td>\n",
              "      <td>2310.0</td>\n",
              "      <td>4.0</td>\n",
              "      <td>7.657981</td>\n",
              "      <td>0.0</td>\n",
              "      <td>19.0</td>\n",
              "      <td>595.0</td>\n",
              "      <td>0</td>\n",
              "      <td>1</td>\n",
              "      <td>...</td>\n",
              "      <td>0</td>\n",
              "      <td>0</td>\n",
              "      <td>0</td>\n",
              "      <td>0</td>\n",
              "      <td>1</td>\n",
              "      <td>0</td>\n",
              "      <td>0</td>\n",
              "      <td>1</td>\n",
              "      <td>0</td>\n",
              "      <td>1</td>\n",
              "    </tr>\n",
              "    <tr>\n",
              "      <th>1</th>\n",
              "      <td>1200001</td>\n",
              "      <td>31.0</td>\n",
              "      <td>126031.0</td>\n",
              "      <td>2.0</td>\n",
              "      <td>13.381379</td>\n",
              "      <td>0.0</td>\n",
              "      <td>14.0</td>\n",
              "      <td>372.0</td>\n",
              "      <td>1</td>\n",
              "      <td>0</td>\n",
              "      <td>...</td>\n",
              "      <td>1</td>\n",
              "      <td>0</td>\n",
              "      <td>0</td>\n",
              "      <td>1</td>\n",
              "      <td>1</td>\n",
              "      <td>0</td>\n",
              "      <td>1</td>\n",
              "      <td>0</td>\n",
              "      <td>0</td>\n",
              "      <td>0</td>\n",
              "    </tr>\n",
              "    <tr>\n",
              "      <th>2</th>\n",
              "      <td>1200002</td>\n",
              "      <td>47.0</td>\n",
              "      <td>17092.0</td>\n",
              "      <td>0.0</td>\n",
              "      <td>24.354527</td>\n",
              "      <td>0.0</td>\n",
              "      <td>16.0</td>\n",
              "      <td>819.0</td>\n",
              "      <td>0</td>\n",
              "      <td>0</td>\n",
              "      <td>...</td>\n",
              "      <td>0</td>\n",
              "      <td>1</td>\n",
              "      <td>1</td>\n",
              "      <td>0</td>\n",
              "      <td>1</td>\n",
              "      <td>1</td>\n",
              "      <td>0</td>\n",
              "      <td>0</td>\n",
              "      <td>1</td>\n",
              "      <td>0</td>\n",
              "    </tr>\n",
              "    <tr>\n",
              "      <th>3</th>\n",
              "      <td>1200003</td>\n",
              "      <td>28.0</td>\n",
              "      <td>30424.0</td>\n",
              "      <td>3.0</td>\n",
              "      <td>5.136225</td>\n",
              "      <td>1.0</td>\n",
              "      <td>3.0</td>\n",
              "      <td>770.0</td>\n",
              "      <td>0</td>\n",
              "      <td>1</td>\n",
              "      <td>...</td>\n",
              "      <td>1</td>\n",
              "      <td>0</td>\n",
              "      <td>1</td>\n",
              "      <td>0</td>\n",
              "      <td>1</td>\n",
              "      <td>0</td>\n",
              "      <td>0</td>\n",
              "      <td>0</td>\n",
              "      <td>0</td>\n",
              "      <td>1</td>\n",
              "    </tr>\n",
              "    <tr>\n",
              "      <th>4</th>\n",
              "      <td>1200004</td>\n",
              "      <td>24.0</td>\n",
              "      <td>10863.0</td>\n",
              "      <td>2.0</td>\n",
              "      <td>11.844155</td>\n",
              "      <td>0.0</td>\n",
              "      <td>14.0</td>\n",
              "      <td>755.0</td>\n",
              "      <td>0</td>\n",
              "      <td>0</td>\n",
              "      <td>...</td>\n",
              "      <td>1</td>\n",
              "      <td>0</td>\n",
              "      <td>0</td>\n",
              "      <td>1</td>\n",
              "      <td>0</td>\n",
              "      <td>0</td>\n",
              "      <td>0</td>\n",
              "      <td>1</td>\n",
              "      <td>0</td>\n",
              "      <td>1</td>\n",
              "    </tr>\n",
              "  </tbody>\n",
              "</table>\n",
              "<p>5 rows × 38 columns</p>\n",
              "</div>\n",
              "    <div class=\"colab-df-buttons\">\n",
              "\n",
              "  <div class=\"colab-df-container\">\n",
              "    <button class=\"colab-df-convert\" onclick=\"convertToInteractive('df-bd1910e4-c412-486b-b355-ba8efb083a86')\"\n",
              "            title=\"Convert this dataframe to an interactive table.\"\n",
              "            style=\"display:none;\">\n",
              "\n",
              "  <svg xmlns=\"http://www.w3.org/2000/svg\" height=\"24px\" viewBox=\"0 -960 960 960\">\n",
              "    <path d=\"M120-120v-720h720v720H120Zm60-500h600v-160H180v160Zm220 220h160v-160H400v160Zm0 220h160v-160H400v160ZM180-400h160v-160H180v160Zm440 0h160v-160H620v160ZM180-180h160v-160H180v160Zm440 0h160v-160H620v160Z\"/>\n",
              "  </svg>\n",
              "    </button>\n",
              "\n",
              "  <style>\n",
              "    .colab-df-container {\n",
              "      display:flex;\n",
              "      gap: 12px;\n",
              "    }\n",
              "\n",
              "    .colab-df-convert {\n",
              "      background-color: #E8F0FE;\n",
              "      border: none;\n",
              "      border-radius: 50%;\n",
              "      cursor: pointer;\n",
              "      display: none;\n",
              "      fill: #1967D2;\n",
              "      height: 32px;\n",
              "      padding: 0 0 0 0;\n",
              "      width: 32px;\n",
              "    }\n",
              "\n",
              "    .colab-df-convert:hover {\n",
              "      background-color: #E2EBFA;\n",
              "      box-shadow: 0px 1px 2px rgba(60, 64, 67, 0.3), 0px 1px 3px 1px rgba(60, 64, 67, 0.15);\n",
              "      fill: #174EA6;\n",
              "    }\n",
              "\n",
              "    .colab-df-buttons div {\n",
              "      margin-bottom: 4px;\n",
              "    }\n",
              "\n",
              "    [theme=dark] .colab-df-convert {\n",
              "      background-color: #3B4455;\n",
              "      fill: #D2E3FC;\n",
              "    }\n",
              "\n",
              "    [theme=dark] .colab-df-convert:hover {\n",
              "      background-color: #434B5C;\n",
              "      box-shadow: 0px 1px 3px 1px rgba(0, 0, 0, 0.15);\n",
              "      filter: drop-shadow(0px 1px 2px rgba(0, 0, 0, 0.3));\n",
              "      fill: #FFFFFF;\n",
              "    }\n",
              "  </style>\n",
              "\n",
              "    <script>\n",
              "      const buttonEl =\n",
              "        document.querySelector('#df-bd1910e4-c412-486b-b355-ba8efb083a86 button.colab-df-convert');\n",
              "      buttonEl.style.display =\n",
              "        google.colab.kernel.accessAllowed ? 'block' : 'none';\n",
              "\n",
              "      async function convertToInteractive(key) {\n",
              "        const element = document.querySelector('#df-bd1910e4-c412-486b-b355-ba8efb083a86');\n",
              "        const dataTable =\n",
              "          await google.colab.kernel.invokeFunction('convertToInteractive',\n",
              "                                                    [key], {});\n",
              "        if (!dataTable) return;\n",
              "\n",
              "        const docLinkHtml = 'Like what you see? Visit the ' +\n",
              "          '<a target=\"_blank\" href=https://colab.research.google.com/notebooks/data_table.ipynb>data table notebook</a>'\n",
              "          + ' to learn more about interactive tables.';\n",
              "        element.innerHTML = '';\n",
              "        dataTable['output_type'] = 'display_data';\n",
              "        await google.colab.output.renderOutput(dataTable, element);\n",
              "        const docLink = document.createElement('div');\n",
              "        docLink.innerHTML = docLinkHtml;\n",
              "        element.appendChild(docLink);\n",
              "      }\n",
              "    </script>\n",
              "  </div>\n",
              "\n",
              "\n",
              "<div id=\"df-c86f1cf7-5a51-4904-aeaa-59a4c39dfb2d\">\n",
              "  <button class=\"colab-df-quickchart\" onclick=\"quickchart('df-c86f1cf7-5a51-4904-aeaa-59a4c39dfb2d')\"\n",
              "            title=\"Suggest charts\"\n",
              "            style=\"display:none;\">\n",
              "\n",
              "<svg xmlns=\"http://www.w3.org/2000/svg\" height=\"24px\"viewBox=\"0 0 24 24\"\n",
              "     width=\"24px\">\n",
              "    <g>\n",
              "        <path d=\"M19 3H5c-1.1 0-2 .9-2 2v14c0 1.1.9 2 2 2h14c1.1 0 2-.9 2-2V5c0-1.1-.9-2-2-2zM9 17H7v-7h2v7zm4 0h-2V7h2v10zm4 0h-2v-4h2v4z\"/>\n",
              "    </g>\n",
              "</svg>\n",
              "  </button>\n",
              "\n",
              "<style>\n",
              "  .colab-df-quickchart {\n",
              "      --bg-color: #E8F0FE;\n",
              "      --fill-color: #1967D2;\n",
              "      --hover-bg-color: #E2EBFA;\n",
              "      --hover-fill-color: #174EA6;\n",
              "      --disabled-fill-color: #AAA;\n",
              "      --disabled-bg-color: #DDD;\n",
              "  }\n",
              "\n",
              "  [theme=dark] .colab-df-quickchart {\n",
              "      --bg-color: #3B4455;\n",
              "      --fill-color: #D2E3FC;\n",
              "      --hover-bg-color: #434B5C;\n",
              "      --hover-fill-color: #FFFFFF;\n",
              "      --disabled-bg-color: #3B4455;\n",
              "      --disabled-fill-color: #666;\n",
              "  }\n",
              "\n",
              "  .colab-df-quickchart {\n",
              "    background-color: var(--bg-color);\n",
              "    border: none;\n",
              "    border-radius: 50%;\n",
              "    cursor: pointer;\n",
              "    display: none;\n",
              "    fill: var(--fill-color);\n",
              "    height: 32px;\n",
              "    padding: 0;\n",
              "    width: 32px;\n",
              "  }\n",
              "\n",
              "  .colab-df-quickchart:hover {\n",
              "    background-color: var(--hover-bg-color);\n",
              "    box-shadow: 0 1px 2px rgba(60, 64, 67, 0.3), 0 1px 3px 1px rgba(60, 64, 67, 0.15);\n",
              "    fill: var(--button-hover-fill-color);\n",
              "  }\n",
              "\n",
              "  .colab-df-quickchart-complete:disabled,\n",
              "  .colab-df-quickchart-complete:disabled:hover {\n",
              "    background-color: var(--disabled-bg-color);\n",
              "    fill: var(--disabled-fill-color);\n",
              "    box-shadow: none;\n",
              "  }\n",
              "\n",
              "  .colab-df-spinner {\n",
              "    border: 2px solid var(--fill-color);\n",
              "    border-color: transparent;\n",
              "    border-bottom-color: var(--fill-color);\n",
              "    animation:\n",
              "      spin 1s steps(1) infinite;\n",
              "  }\n",
              "\n",
              "  @keyframes spin {\n",
              "    0% {\n",
              "      border-color: transparent;\n",
              "      border-bottom-color: var(--fill-color);\n",
              "      border-left-color: var(--fill-color);\n",
              "    }\n",
              "    20% {\n",
              "      border-color: transparent;\n",
              "      border-left-color: var(--fill-color);\n",
              "      border-top-color: var(--fill-color);\n",
              "    }\n",
              "    30% {\n",
              "      border-color: transparent;\n",
              "      border-left-color: var(--fill-color);\n",
              "      border-top-color: var(--fill-color);\n",
              "      border-right-color: var(--fill-color);\n",
              "    }\n",
              "    40% {\n",
              "      border-color: transparent;\n",
              "      border-right-color: var(--fill-color);\n",
              "      border-top-color: var(--fill-color);\n",
              "    }\n",
              "    60% {\n",
              "      border-color: transparent;\n",
              "      border-right-color: var(--fill-color);\n",
              "    }\n",
              "    80% {\n",
              "      border-color: transparent;\n",
              "      border-right-color: var(--fill-color);\n",
              "      border-bottom-color: var(--fill-color);\n",
              "    }\n",
              "    90% {\n",
              "      border-color: transparent;\n",
              "      border-bottom-color: var(--fill-color);\n",
              "    }\n",
              "  }\n",
              "</style>\n",
              "\n",
              "  <script>\n",
              "    async function quickchart(key) {\n",
              "      const quickchartButtonEl =\n",
              "        document.querySelector('#' + key + ' button');\n",
              "      quickchartButtonEl.disabled = true;  // To prevent multiple clicks.\n",
              "      quickchartButtonEl.classList.add('colab-df-spinner');\n",
              "      try {\n",
              "        const charts = await google.colab.kernel.invokeFunction(\n",
              "            'suggestCharts', [key], {});\n",
              "      } catch (error) {\n",
              "        console.error('Error during call to suggestCharts:', error);\n",
              "      }\n",
              "      quickchartButtonEl.classList.remove('colab-df-spinner');\n",
              "      quickchartButtonEl.classList.add('colab-df-quickchart-complete');\n",
              "    }\n",
              "    (() => {\n",
              "      let quickchartButtonEl =\n",
              "        document.querySelector('#df-c86f1cf7-5a51-4904-aeaa-59a4c39dfb2d button');\n",
              "      quickchartButtonEl.style.display =\n",
              "        google.colab.kernel.accessAllowed ? 'block' : 'none';\n",
              "    })();\n",
              "  </script>\n",
              "</div>\n",
              "\n",
              "    </div>\n",
              "  </div>\n"
            ],
            "application/vnd.google.colaboratory.intrinsic+json": {
              "type": "dataframe",
              "variable_name": "test"
            }
          },
          "metadata": {},
          "execution_count": 325
        }
      ]
    },
    {
      "cell_type": "code",
      "source": [
        "# Assuming 'test' DataFrame and 'best_model' from the previous code are available.\n",
        "\n",
        "# Preprocess the test data using the same scaler fitted on the training data\n",
        "test_scaled = sc.transform(test)\n",
        "\n",
        "# Make predictions on the scaled test data\n",
        "predictions = best_model.predict(test_scaled)\n",
        "\n",
        "# Create a submission DataFrame\n",
        "submission_df = pd.DataFrame({'id': test['id'], 'Premium Amount': predictions})\n",
        "\n",
        "# Save the submission file\n",
        "submission_df.to_csv('submission.csv', index=False)"
      ],
      "metadata": {
        "id": "NkqgFfIRi4C6"
      },
      "execution_count": 326,
      "outputs": []
    }
  ]
}