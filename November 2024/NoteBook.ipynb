{
 "cells": [
  {
   "cell_type": "code",
   "execution_count": 2,
   "metadata": {},
   "outputs": [
    {
     "name": "stderr",
     "output_type": "stream",
     "text": [
      "c:\\Users\\HP\\anaconda3\\Lib\\site-packages\\pandas\\core\\arrays\\masked.py:60: UserWarning: Pandas requires version '1.3.6' or newer of 'bottleneck' (version '1.3.5' currently installed).\n",
      "  from pandas.core import (\n"
     ]
    }
   ],
   "source": [
    "import numpy as np \n",
    "import pandas as pd \n",
    "import matplotlib.pyplot as plt\n",
    "import seaborn as sns"
   ]
  },
  {
   "cell_type": "code",
   "execution_count": 3,
   "metadata": {},
   "outputs": [],
   "source": [
    "train = pd.read_csv('train.csv')\n",
    "test = pd.read_csv('test.csv')"
   ]
  },
  {
   "cell_type": "code",
   "execution_count": 4,
   "metadata": {},
   "outputs": [
    {
     "data": {
      "text/plain": [
       "((140700, 20), (93800, 19))"
      ]
     },
     "execution_count": 4,
     "metadata": {},
     "output_type": "execute_result"
    }
   ],
   "source": [
    "train.shape,test.shape"
   ]
  },
  {
   "cell_type": "code",
   "execution_count": 5,
   "metadata": {},
   "outputs": [
    {
     "data": {
      "text/plain": [
       "Depression\n",
       "0    115133\n",
       "1     25567\n",
       "Name: count, dtype: int64"
      ]
     },
     "execution_count": 5,
     "metadata": {},
     "output_type": "execute_result"
    }
   ],
   "source": [
    "train['Depression'].value_counts()"
   ]
  },
  {
   "cell_type": "markdown",
   "metadata": {},
   "source": [
    "- Target column('Depression') have imbalanced data."
   ]
  },
  {
   "cell_type": "code",
   "execution_count": 6,
   "metadata": {},
   "outputs": [
    {
     "name": "stdout",
     "output_type": "stream",
     "text": [
      "<class 'pandas.core.frame.DataFrame'>\n",
      "RangeIndex: 140700 entries, 0 to 140699\n",
      "Data columns (total 20 columns):\n",
      " #   Column                                 Non-Null Count   Dtype  \n",
      "---  ------                                 --------------   -----  \n",
      " 0   id                                     140700 non-null  int64  \n",
      " 1   Name                                   140700 non-null  object \n",
      " 2   Gender                                 140700 non-null  object \n",
      " 3   Age                                    140700 non-null  float64\n",
      " 4   City                                   140700 non-null  object \n",
      " 5   Working Professional or Student        140700 non-null  object \n",
      " 6   Profession                             104070 non-null  object \n",
      " 7   Academic Pressure                      27897 non-null   float64\n",
      " 8   Work Pressure                          112782 non-null  float64\n",
      " 9   CGPA                                   27898 non-null   float64\n",
      " 10  Study Satisfaction                     27897 non-null   float64\n",
      " 11  Job Satisfaction                       112790 non-null  float64\n",
      " 12  Sleep Duration                         140700 non-null  object \n",
      " 13  Dietary Habits                         140696 non-null  object \n",
      " 14  Degree                                 140698 non-null  object \n",
      " 15  Have you ever had suicidal thoughts ?  140700 non-null  object \n",
      " 16  Work/Study Hours                       140700 non-null  float64\n",
      " 17  Financial Stress                       140696 non-null  float64\n",
      " 18  Family History of Mental Illness       140700 non-null  object \n",
      " 19  Depression                             140700 non-null  int64  \n",
      "dtypes: float64(8), int64(2), object(10)\n",
      "memory usage: 21.5+ MB\n"
     ]
    }
   ],
   "source": [
    "train.info()"
   ]
  },
  {
   "cell_type": "code",
   "execution_count": 7,
   "metadata": {},
   "outputs": [],
   "source": [
    "train = train.drop('Name', axis=1)\n",
    "test = test.drop('Name', axis=1)"
   ]
  },
  {
   "cell_type": "markdown",
   "metadata": {},
   "source": [
    "# Feature Engineering"
   ]
  },
  {
   "cell_type": "markdown",
   "metadata": {},
   "source": [
    "#### Profession column"
   ]
  },
  {
   "cell_type": "code",
   "execution_count": 8,
   "metadata": {},
   "outputs": [
    {
     "data": {
      "text/plain": [
       "36630"
      ]
     },
     "execution_count": 8,
     "metadata": {},
     "output_type": "execute_result"
    }
   ],
   "source": [
    "train['Profession'].isnull().sum()"
   ]
  },
  {
   "cell_type": "code",
   "execution_count": 9,
   "metadata": {},
   "outputs": [],
   "source": [
    "train['Profession'] = train['Profession'].fillna(\"missing\")\n",
    "test['Profession'] = test['Profession'].fillna(\"missing\")"
   ]
  },
  {
   "cell_type": "code",
   "execution_count": 11,
   "metadata": {},
   "outputs": [
    {
     "data": {
      "text/plain": [
       "Profession\n",
       "missing              36630\n",
       "Teacher              24906\n",
       "Content Writer        7814\n",
       "Architect             4370\n",
       "Consultant            4229\n",
       "                     ...  \n",
       "Dev                      1\n",
       "BE                       1\n",
       "B.Com                    1\n",
       "Family Consultant        1\n",
       "Yuvraj                   1\n",
       "Name: count, Length: 65, dtype: int64"
      ]
     },
     "execution_count": 11,
     "metadata": {},
     "output_type": "execute_result"
    }
   ],
   "source": [
    "profession_cnt =train['Profession'].value_counts()\n",
    "profession_cnt"
   ]
  },
  {
   "cell_type": "code",
   "execution_count": 12,
   "metadata": {},
   "outputs": [],
   "source": [
    "profession_threshold_df = 2814\n",
    "profession_threshold_tf = 1594\n",
    "profession_cnt_df = train['Profession'].value_counts()\n",
    "profession_cnt_tf = test['Profession'].value_counts()\n",
    "replace_profession_df = profession_cnt[profession_cnt < profession_threshold_df].index\n",
    "replace_profession_tf = profession_cnt_tf[profession_cnt_tf < profession_threshold_tf].index"
   ]
  },
  {
   "cell_type": "code",
   "execution_count": 13,
   "metadata": {},
   "outputs": [],
   "source": [
    "train['Profession'] = train['Profession'].replace(replace_profession_df,\"Unknown_profession\")\n",
    "test['Profession'] = test['Profession'].replace(replace_profession_tf,\"Unknown_profession\")"
   ]
  },
  {
   "cell_type": "code",
   "execution_count": 14,
   "metadata": {},
   "outputs": [
    {
     "data": {
      "text/plain": [
       "Profession\n",
       "Unknown_profession        36771\n",
       "missing                   36630\n",
       "Teacher                   24906\n",
       "Content Writer             7814\n",
       "Architect                  4370\n",
       "Consultant                 4229\n",
       "HR Manager                 4022\n",
       "Pharmacist                 3893\n",
       "Doctor                     3255\n",
       "Business Analyst           3161\n",
       "Entrepreneur               2968\n",
       "Chemist                    2967\n",
       "Chef                       2862\n",
       "Educational Consultant     2852\n",
       "Name: count, dtype: int64"
      ]
     },
     "execution_count": 14,
     "metadata": {},
     "output_type": "execute_result"
    }
   ],
   "source": [
    "train['Profession'].value_counts()"
   ]
  },
  {
   "cell_type": "markdown",
   "metadata": {},
   "source": [
    "#### Academic Pressure"
   ]
  },
  {
   "cell_type": "code",
   "execution_count": 15,
   "metadata": {},
   "outputs": [
    {
     "name": "stdout",
     "output_type": "stream",
     "text": [
      "112803\n",
      "75033\n"
     ]
    }
   ],
   "source": [
    "print(train['Academic Pressure'].isnull().sum())\n",
    "print(test['Academic Pressure'].isnull().sum())"
   ]
  },
  {
   "cell_type": "code",
   "execution_count": 16,
   "metadata": {},
   "outputs": [],
   "source": [
    "# Fill missing values in numerical columns with the mean\n",
    "for column in train.columns:\n",
    "  if pd.api.types.is_numeric_dtype(train[column]):\n",
    "    train[column] = train[column].fillna(train[column].mean())\n",
    "    if column in test.columns:\n",
    "      test[column] = test[column].fillna(test[column].mean())"
   ]
  },
  {
   "cell_type": "code",
   "execution_count": 17,
   "metadata": {},
   "outputs": [
    {
     "data": {
      "text/plain": [
       "Academic Pressure\n",
       "3.142273    112803\n",
       "3.000000      7463\n",
       "5.000000      6296\n",
       "4.000000      5158\n",
       "1.000000      4801\n",
       "2.000000      4179\n",
       "Name: count, dtype: int64"
      ]
     },
     "execution_count": 17,
     "metadata": {},
     "output_type": "execute_result"
    }
   ],
   "source": [
    "train['Academic Pressure'].value_counts()"
   ]
  },
  {
   "cell_type": "code",
   "execution_count": null,
   "metadata": {},
   "outputs": [],
   "source": [
    "# Fill missing values in 'Study Satisfaction' with the median\n",
    "train['Study Satisfaction'] = train['Study Satisfaction'].fillna(train['Study Satisfaction'].median())\n",
    "\n",
    "# If you want to fill missing values in the test set as well, uncomment the following line:\n",
    "test['Study Satisfaction'] = test['Study Satisfaction'].fillna(test['Study Satisfaction'].median())"
   ]
  },
  {
   "cell_type": "code",
   "execution_count": 19,
   "metadata": {},
   "outputs": [],
   "source": [
    "# Fill missing values in 'Study Satisfaction' with the median\n",
    "train['Job Satisfaction'] = train['Job Satisfaction'].fillna(train['Job Satisfaction'].median())\n",
    "\n",
    "# If you want to fill missing values in the test set as well, uncomment the following line:\n",
    "test['Job Satisfaction'] = test['Job Satisfaction'].fillna(test['Job Satisfaction'].median())"
   ]
  },
  {
   "cell_type": "code",
   "execution_count": 20,
   "metadata": {},
   "outputs": [
    {
     "data": {
      "text/plain": [
       "((140700, 19), (93800, 18))"
      ]
     },
     "execution_count": 20,
     "metadata": {},
     "output_type": "execute_result"
    }
   ],
   "source": [
    "train.shape,test.shape"
   ]
  },
  {
   "cell_type": "code",
   "execution_count": 21,
   "metadata": {},
   "outputs": [
    {
     "data": {
      "text/plain": [
       "((140700, 19), (93800, 18))"
      ]
     },
     "execution_count": 21,
     "metadata": {},
     "output_type": "execute_result"
    }
   ],
   "source": [
    "df = train.copy()\n",
    "tf = test.copy()\n",
    "df.shape,tf.shape"
   ]
  },
  {
   "cell_type": "code",
   "execution_count": 22,
   "metadata": {},
   "outputs": [
    {
     "data": {
      "text/plain": [
       "0"
      ]
     },
     "execution_count": 22,
     "metadata": {},
     "output_type": "execute_result"
    }
   ],
   "source": [
    "df['CGPA'].isnull().sum()\n",
    "tf['CGPA'].isnull().sum()"
   ]
  },
  {
   "cell_type": "code",
   "execution_count": 23,
   "metadata": {},
   "outputs": [
    {
     "name": "stderr",
     "output_type": "stream",
     "text": [
      "C:\\Users\\HP\\AppData\\Local\\Temp\\ipykernel_8144\\2647841782.py:1: FutureWarning: A value is trying to be set on a copy of a DataFrame or Series through chained assignment using an inplace method.\n",
      "The behavior will change in pandas 3.0. This inplace method will never work because the intermediate object on which we are setting values always behaves as a copy.\n",
      "\n",
      "For example, when doing 'df[col].method(value, inplace=True)', try using 'df.method({col: value}, inplace=True)' or df[col] = df[col].method(value) instead, to perform the operation inplace on the original object.\n",
      "\n",
      "\n",
      "  df['CGPA'].fillna(df['CGPA'].mean(),inplace=True)\n",
      "C:\\Users\\HP\\AppData\\Local\\Temp\\ipykernel_8144\\2647841782.py:2: FutureWarning: A value is trying to be set on a copy of a DataFrame or Series through chained assignment using an inplace method.\n",
      "The behavior will change in pandas 3.0. This inplace method will never work because the intermediate object on which we are setting values always behaves as a copy.\n",
      "\n",
      "For example, when doing 'df[col].method(value, inplace=True)', try using 'df.method({col: value}, inplace=True)' or df[col] = df[col].method(value) instead, to perform the operation inplace on the original object.\n",
      "\n",
      "\n",
      "  tf['CGPA'].fillna(tf['CGPA'].mean(),inplace=True)\n"
     ]
    }
   ],
   "source": [
    "df['CGPA'].fillna(df['CGPA'].mean(),inplace=True)\n",
    "tf['CGPA'].fillna(tf['CGPA'].mean(),inplace=True)"
   ]
  },
  {
   "cell_type": "code",
   "execution_count": 24,
   "metadata": {},
   "outputs": [
    {
     "name": "stdout",
     "output_type": "stream",
     "text": [
      "<class 'pandas.core.frame.DataFrame'>\n",
      "RangeIndex: 140700 entries, 0 to 140699\n",
      "Data columns (total 19 columns):\n",
      " #   Column                                 Non-Null Count   Dtype  \n",
      "---  ------                                 --------------   -----  \n",
      " 0   id                                     140700 non-null  int64  \n",
      " 1   Gender                                 140700 non-null  object \n",
      " 2   Age                                    140700 non-null  float64\n",
      " 3   City                                   140700 non-null  object \n",
      " 4   Working Professional or Student        140700 non-null  object \n",
      " 5   Profession                             140700 non-null  object \n",
      " 6   Academic Pressure                      140700 non-null  float64\n",
      " 7   Work Pressure                          140700 non-null  float64\n",
      " 8   CGPA                                   140700 non-null  float64\n",
      " 9   Study Satisfaction                     140700 non-null  float64\n",
      " 10  Job Satisfaction                       140700 non-null  float64\n",
      " 11  Sleep Duration                         140700 non-null  object \n",
      " 12  Dietary Habits                         140696 non-null  object \n",
      " 13  Degree                                 140698 non-null  object \n",
      " 14  Have you ever had suicidal thoughts ?  140700 non-null  object \n",
      " 15  Work/Study Hours                       140700 non-null  float64\n",
      " 16  Financial Stress                       140700 non-null  float64\n",
      " 17  Family History of Mental Illness       140700 non-null  object \n",
      " 18  Depression                             140700 non-null  int64  \n",
      "dtypes: float64(8), int64(2), object(9)\n",
      "memory usage: 20.4+ MB\n"
     ]
    }
   ],
   "source": [
    "df.info()"
   ]
  },
  {
   "cell_type": "code",
   "execution_count": 25,
   "metadata": {},
   "outputs": [
    {
     "data": {
      "text/plain": [
       "2"
      ]
     },
     "execution_count": 25,
     "metadata": {},
     "output_type": "execute_result"
    }
   ],
   "source": [
    "df['Degree'].isnull().sum()"
   ]
  },
  {
   "cell_type": "code",
   "execution_count": 27,
   "metadata": {},
   "outputs": [
    {
     "name": "stderr",
     "output_type": "stream",
     "text": [
      "C:\\Users\\HP\\AppData\\Local\\Temp\\ipykernel_8144\\2518624376.py:2: FutureWarning: A value is trying to be set on a copy of a DataFrame or Series through chained assignment using an inplace method.\n",
      "The behavior will change in pandas 3.0. This inplace method will never work because the intermediate object on which we are setting values always behaves as a copy.\n",
      "\n",
      "For example, when doing 'df[col].method(value, inplace=True)', try using 'df.method({col: value}, inplace=True)' or df[col] = df[col].method(value) instead, to perform the operation inplace on the original object.\n",
      "\n",
      "\n",
      "  tf['Degree'].fillna(tf['Degree'].mode()[0],inplace=True)\n"
     ]
    }
   ],
   "source": [
    "df['Degree'].fillna(df['Degree'].mode()[0],inplace=True)\n",
    "tf['Degree'].fillna(tf['Degree'].mode()[0],inplace=True)"
   ]
  },
  {
   "cell_type": "code",
   "execution_count": 28,
   "metadata": {},
   "outputs": [],
   "source": [
    "# Check if 'Name' column exists before dropping\n",
    "if 'Name' in df.columns:\n",
    "    df.drop(['id','Name'],axis=1,inplace=True)\n",
    "if 'Name' in tf.columns:\n",
    "  tf.drop(['id','Name'],axis=1,inplace=True)"
   ]
  },
  {
   "cell_type": "code",
   "execution_count": 29,
   "metadata": {},
   "outputs": [
    {
     "data": {
      "text/plain": [
       "((140700, 19), (93800, 18))"
      ]
     },
     "execution_count": 29,
     "metadata": {},
     "output_type": "execute_result"
    }
   ],
   "source": [
    "df.shape,tf.shape"
   ]
  },
  {
   "cell_type": "code",
   "execution_count": 30,
   "metadata": {},
   "outputs": [],
   "source": [
    "df = pd.get_dummies(df,columns=['Profession'],drop_first=True)\n",
    "tf = pd.get_dummies(tf,columns=['Profession'],drop_first=True)"
   ]
  },
  {
   "cell_type": "code",
   "execution_count": 31,
   "metadata": {},
   "outputs": [
    {
     "data": {
      "text/plain": [
       "((140700, 31), (93800, 30))"
      ]
     },
     "execution_count": 31,
     "metadata": {},
     "output_type": "execute_result"
    }
   ],
   "source": [
    "df.shape,tf.shape"
   ]
  },
  {
   "cell_type": "code",
   "execution_count": 32,
   "metadata": {},
   "outputs": [
    {
     "data": {
      "text/plain": [
       "<Axes: xlabel='Dietary Habits'>"
      ]
     },
     "execution_count": 32,
     "metadata": {},
     "output_type": "execute_result"
    },
    {
     "data": {
      "image/png": "[encoded data removed]",
      "text/plain": [
       "<Figure size 640x480 with 1 Axes>"
      ]
     },
     "metadata": {},
     "output_type": "display_data"
    }
   ],
   "source": [
    "df['Dietary Habits'].value_counts().plot(kind='bar')"
   ]
  },
  {
   "cell_type": "code",
   "execution_count": 33,
   "metadata": {},
   "outputs": [
    {
     "name": "stderr",
     "output_type": "stream",
     "text": [
      "C:\\Users\\HP\\AppData\\Local\\Temp\\ipykernel_8144\\3687034632.py:1: FutureWarning: A value is trying to be set on a copy of a DataFrame or Series through chained assignment using an inplace method.\n",
      "The behavior will change in pandas 3.0. This inplace method will never work because the intermediate object on which we are setting values always behaves as a copy.\n",
      "\n",
      "For example, when doing 'df[col].method(value, inplace=True)', try using 'df.method({col: value}, inplace=True)' or df[col] = df[col].method(value) instead, to perform the operation inplace on the original object.\n",
      "\n",
      "\n",
      "  df['Dietary Habits'].fillna(df['Dietary Habits'].mode()[0],inplace=True)\n",
      "C:\\Users\\HP\\AppData\\Local\\Temp\\ipykernel_8144\\3687034632.py:2: FutureWarning: A value is trying to be set on a copy of a DataFrame or Series through chained assignment using an inplace method.\n",
      "The behavior will change in pandas 3.0. This inplace method will never work because the intermediate object on which we are setting values always behaves as a copy.\n",
      "\n",
      "For example, when doing 'df[col].method(value, inplace=True)', try using 'df.method({col: value}, inplace=True)' or df[col] = df[col].method(value) instead, to perform the operation inplace on the original object.\n",
      "\n",
      "\n",
      "  tf['Dietary Habits'].fillna(tf['Dietary Habits'].mode()[0],inplace=True)\n"
     ]
    }
   ],
   "source": [
    "df['Dietary Habits'].fillna(df['Dietary Habits'].mode()[0],inplace=True)\n",
    "tf['Dietary Habits'].fillna(tf['Dietary Habits'].mode()[0],inplace=True)"
   ]
  },
  {
   "cell_type": "code",
   "execution_count": 34,
   "metadata": {},
   "outputs": [
    {
     "name": "stderr",
     "output_type": "stream",
     "text": [
      "C:\\Users\\HP\\AppData\\Local\\Temp\\ipykernel_8144\\3483033245.py:1: FutureWarning: A value is trying to be set on a copy of a DataFrame or Series through chained assignment using an inplace method.\n",
      "The behavior will change in pandas 3.0. This inplace method will never work because the intermediate object on which we are setting values always behaves as a copy.\n",
      "\n",
      "For example, when doing 'df[col].method(value, inplace=True)', try using 'df.method({col: value}, inplace=True)' or df[col] = df[col].method(value) instead, to perform the operation inplace on the original object.\n",
      "\n",
      "\n",
      "  df['Financial Stress'].fillna(df['Financial Stress'].median(),inplace=True)\n",
      "C:\\Users\\HP\\AppData\\Local\\Temp\\ipykernel_8144\\3483033245.py:2: FutureWarning: A value is trying to be set on a copy of a DataFrame or Series through chained assignment using an inplace method.\n",
      "The behavior will change in pandas 3.0. This inplace method will never work because the intermediate object on which we are setting values always behaves as a copy.\n",
      "\n",
      "For example, when doing 'df[col].method(value, inplace=True)', try using 'df.method({col: value}, inplace=True)' or df[col] = df[col].method(value) instead, to perform the operation inplace on the original object.\n",
      "\n",
      "\n",
      "  tf['Financial Stress'].fillna(tf['Financial Stress'].median(),inplace=True)\n"
     ]
    }
   ],
   "source": [
    "df['Financial Stress'].fillna(df['Financial Stress'].median(),inplace=True)\n",
    "tf['Financial Stress'].fillna(tf['Financial Stress'].median(),inplace=True)"
   ]
  },
  {
   "cell_type": "markdown",
   "metadata": {},
   "source": [
    "## Work with Categorical columns"
   ]
  },
  {
   "cell_type": "markdown",
   "metadata": {},
   "source": [
    "#### Gender column"
   ]
  },
  {
   "cell_type": "code",
   "execution_count": 35,
   "metadata": {},
   "outputs": [
    {
     "data": {
      "text/plain": [
       "Gender\n",
       "Male      77464\n",
       "Female    63236\n",
       "Name: count, dtype: int64"
      ]
     },
     "execution_count": 35,
     "metadata": {},
     "output_type": "execute_result"
    }
   ],
   "source": [
    "df['Gender'].value_counts()"
   ]
  },
  {
   "cell_type": "code",
   "execution_count": 36,
   "metadata": {},
   "outputs": [
    {
     "name": "stdout",
     "output_type": "stream",
     "text": [
      "(140700, 31) (93800, 30)\n"
     ]
    }
   ],
   "source": [
    "print(df.shape,tf.shape)\n",
    "df = pd.get_dummies(df,columns=['Gender'],drop_first=True)\n",
    "tf = pd.get_dummies(tf,columns=['Gender'],drop_first=True)"
   ]
  },
  {
   "cell_type": "code",
   "execution_count": 37,
   "metadata": {},
   "outputs": [
    {
     "data": {
      "text/plain": [
       "((140700, 31), (93800, 30))"
      ]
     },
     "execution_count": 37,
     "metadata": {},
     "output_type": "execute_result"
    }
   ],
   "source": [
    "df.shape,tf.shape"
   ]
  },
  {
   "cell_type": "markdown",
   "metadata": {},
   "source": [
    "#### City column"
   ]
  },
  {
   "cell_type": "code",
   "execution_count": 38,
   "metadata": {},
   "outputs": [
    {
     "data": {
      "text/plain": [
       "City\n",
       "Kalyan         6591\n",
       "Patna          5924\n",
       "Vasai-Virar    5765\n",
       "Kolkata        5689\n",
       "Ahmedabad      5613\n",
       "               ... \n",
       "Shrey             1\n",
       "Ivaan             1\n",
       "Vaanya            1\n",
       "Gaurav            1\n",
       "Unirar            1\n",
       "Name: count, Length: 98, dtype: int64"
      ]
     },
     "execution_count": 38,
     "metadata": {},
     "output_type": "execute_result"
    }
   ],
   "source": [
    "df['City'].value_counts()"
   ]
  },
  {
   "cell_type": "code",
   "execution_count": 39,
   "metadata": {},
   "outputs": [],
   "source": [
    "city_df = 3000\n",
    "city_tf = 2000\n",
    "city_count_df = df['City'].value_counts()\n",
    "city_count_tf = tf['City'].value_counts()\n",
    "replace_city_df = city_count_df[city_count_df < city_df].index\n",
    "replace_city_tf = city_count_tf[city_count_tf < city_tf].index"
   ]
  },
  {
   "cell_type": "code",
   "execution_count": 40,
   "metadata": {},
   "outputs": [],
   "source": [
    "df['City'] = df['City'].replace(replace_city_df,'Unknown_city')\n",
    "tf['City'] = tf['City'].replace(replace_city_tf,'Unknown_city')"
   ]
  },
  {
   "cell_type": "code",
   "execution_count": 41,
   "metadata": {},
   "outputs": [
    {
     "data": {
      "text/plain": [
       "City\n",
       "Kalyan           6591\n",
       "Patna            5924\n",
       "Vasai-Virar      5765\n",
       "Kolkata          5689\n",
       "Ahmedabad        5613\n",
       "Meerut           5528\n",
       "Ludhiana         5226\n",
       "Pune             5210\n",
       "Rajkot           5207\n",
       "Visakhapatnam    5176\n",
       "Srinagar         5074\n",
       "Mumbai           4966\n",
       "Indore           4872\n",
       "Agra             4684\n",
       "Surat            4636\n",
       "Varanasi         4606\n",
       "Vadodara         4568\n",
       "Hyderabad        4496\n",
       "Kanpur           4398\n",
       "Jaipur           4328\n",
       "Thane            4289\n",
       "Lucknow          4280\n",
       "Nagpur           4209\n",
       "Bangalore        4123\n",
       "Chennai          4044\n",
       "Ghaziabad        3620\n",
       "Delhi            3593\n",
       "Bhopal           3475\n",
       "Faridabad        3268\n",
       "Nashik           3144\n",
       "Unknown_city       98\n",
       "Name: count, dtype: int64"
      ]
     },
     "execution_count": 41,
     "metadata": {},
     "output_type": "execute_result"
    }
   ],
   "source": [
    "df['City'].value_counts()"
   ]
  },
  {
   "cell_type": "code",
   "execution_count": 42,
   "metadata": {},
   "outputs": [],
   "source": [
    "df = pd.get_dummies(df,columns=['City'],drop_first=True)\n",
    "tf = pd.get_dummies(tf,columns=['City'],drop_first=True)"
   ]
  },
  {
   "cell_type": "code",
   "execution_count": 43,
   "metadata": {},
   "outputs": [
    {
     "data": {
      "text/plain": [
       "((140700, 60), (93800, 59))"
      ]
     },
     "execution_count": 43,
     "metadata": {},
     "output_type": "execute_result"
    }
   ],
   "source": [
    "df.shape,tf.shape"
   ]
  },
  {
   "cell_type": "markdown",
   "metadata": {},
   "source": [
    "#### Working Professional or Student column"
   ]
  },
  {
   "cell_type": "code",
   "execution_count": 44,
   "metadata": {},
   "outputs": [
    {
     "data": {
      "text/plain": [
       "((140700, 60), (93800, 59))"
      ]
     },
     "execution_count": 44,
     "metadata": {},
     "output_type": "execute_result"
    }
   ],
   "source": [
    "df = pd.get_dummies(df,columns=['Working Professional or Student'],drop_first=True)\n",
    "tf = pd.get_dummies(tf,columns=['Working Professional or Student'],drop_first=True)\n",
    "df.shape,tf.shape"
   ]
  },
  {
   "cell_type": "code",
   "execution_count": null,
   "metadata": {},
   "outputs": [],
   "source": []
  },
  {
   "cell_type": "code",
   "execution_count": null,
   "metadata": {},
   "outputs": [],
   "source": []
  },
  {
   "cell_type": "code",
   "execution_count": null,
   "metadata": {},
   "outputs": [],
   "source": []
  },
  {
   "cell_type": "code",
   "execution_count": null,
   "metadata": {},
   "outputs": [],
   "source": []
  },
  {
   "cell_type": "code",
   "execution_count": null,
   "metadata": {},
   "outputs": [],
   "source": []
  },
  {
   "cell_type": "code",
   "execution_count": null,
   "metadata": {},
   "outputs": [],
   "source": []
  },
  {
   "cell_type": "code",
   "execution_count": null,
   "metadata": {},
   "outputs": [],
   "source": []
  },
  {
   "cell_type": "markdown",
   "metadata": {},
   "source": [
    "# OHE"
   ]
  },
  {
   "cell_type": "code",
   "execution_count": null,
   "metadata": {},
   "outputs": [],
   "source": [
    "train = pd.get_dummies(train,columns=['Profession'],drop_first=True)\n",
    "test = pd.get_dummies(test,columns=['Profession'],drop_first=True)"
   ]
  }
 ],
 "metadata": {
  "kernelspec": {
   "display_name": "base",
   "language": "python",
   "name": "python3"
  },
  "language_info": {
   "codemirror_mode": {
    "name": "ipython",
    "version": 3
   },
   "file_extension": ".py",
   "mimetype": "text/x-python",
   "name": "python",
   "nbconvert_exporter": "python",
   "pygments_lexer": "ipython3",
   "version": "3.11.5"
  }
 },
 "nbformat": 4,
 "nbformat_minor": 2
}
